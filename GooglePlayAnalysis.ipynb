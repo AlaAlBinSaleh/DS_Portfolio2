{
 "cells": [
  {
   "cell_type": "markdown",
   "source": [
    "Research Question: What Makes an App Popular in Google Play? "
   ],
   "metadata": {}
  },
  {
   "cell_type": "code",
   "execution_count": 7,
   "source": [
    "import numpy as np\n",
    "import pandas as pd \n",
    "import seaborn as sns \n",
    "import matplotlib as plt\n",
    "import matplotlib.pyplot as plt\n"
   ],
   "outputs": [],
   "metadata": {}
  },
  {
   "cell_type": "code",
   "execution_count": 8,
   "source": [
    "#import the dataset \n",
    "googleplay = pd.read_csv(\"data/googleplaystore.csv\")"
   ],
   "outputs": [],
   "metadata": {}
  },
  {
   "cell_type": "code",
   "execution_count": 9,
   "source": [
    "#Check the dimentions of the dataset \n",
    "googleplay.shape"
   ],
   "outputs": [
    {
     "output_type": "execute_result",
     "data": {
      "text/plain": [
       "(10841, 13)"
      ]
     },
     "metadata": {},
     "execution_count": 9
    }
   ],
   "metadata": {}
  },
  {
   "cell_type": "code",
   "execution_count": 10,
   "source": [
    "googleplay.info()\n",
    "googleplay.head()\n"
   ],
   "outputs": [
    {
     "output_type": "stream",
     "name": "stdout",
     "text": [
      "<class 'pandas.core.frame.DataFrame'>\n",
      "RangeIndex: 10841 entries, 0 to 10840\n",
      "Data columns (total 13 columns):\n",
      " #   Column          Non-Null Count  Dtype  \n",
      "---  ------          --------------  -----  \n",
      " 0   App             10841 non-null  object \n",
      " 1   Category        10841 non-null  object \n",
      " 2   Rating          9367 non-null   float64\n",
      " 3   Reviews         10841 non-null  object \n",
      " 4   Size            10841 non-null  object \n",
      " 5   Installs        10841 non-null  object \n",
      " 6   Type            10840 non-null  object \n",
      " 7   Price           10841 non-null  object \n",
      " 8   Content Rating  10840 non-null  object \n",
      " 9   Genres          10841 non-null  object \n",
      " 10  Last Updated    10841 non-null  object \n",
      " 11  Current Ver     10833 non-null  object \n",
      " 12  Android Ver     10838 non-null  object \n",
      "dtypes: float64(1), object(12)\n",
      "memory usage: 1.1+ MB\n"
     ]
    },
    {
     "output_type": "execute_result",
     "data": {
      "text/html": [
       "<div>\n",
       "<style scoped>\n",
       "    .dataframe tbody tr th:only-of-type {\n",
       "        vertical-align: middle;\n",
       "    }\n",
       "\n",
       "    .dataframe tbody tr th {\n",
       "        vertical-align: top;\n",
       "    }\n",
       "\n",
       "    .dataframe thead th {\n",
       "        text-align: right;\n",
       "    }\n",
       "</style>\n",
       "<table border=\"1\" class=\"dataframe\">\n",
       "  <thead>\n",
       "    <tr style=\"text-align: right;\">\n",
       "      <th></th>\n",
       "      <th>App</th>\n",
       "      <th>Category</th>\n",
       "      <th>Rating</th>\n",
       "      <th>Reviews</th>\n",
       "      <th>Size</th>\n",
       "      <th>Installs</th>\n",
       "      <th>Type</th>\n",
       "      <th>Price</th>\n",
       "      <th>Content Rating</th>\n",
       "      <th>Genres</th>\n",
       "      <th>Last Updated</th>\n",
       "      <th>Current Ver</th>\n",
       "      <th>Android Ver</th>\n",
       "    </tr>\n",
       "  </thead>\n",
       "  <tbody>\n",
       "    <tr>\n",
       "      <th>0</th>\n",
       "      <td>Photo Editor &amp; Candy Camera &amp; Grid &amp; ScrapBook</td>\n",
       "      <td>ART_AND_DESIGN</td>\n",
       "      <td>4.1</td>\n",
       "      <td>159</td>\n",
       "      <td>19M</td>\n",
       "      <td>10,000+</td>\n",
       "      <td>Free</td>\n",
       "      <td>0</td>\n",
       "      <td>Everyone</td>\n",
       "      <td>Art &amp; Design</td>\n",
       "      <td>January 7, 2018</td>\n",
       "      <td>1.0.0</td>\n",
       "      <td>4.0.3 and up</td>\n",
       "    </tr>\n",
       "    <tr>\n",
       "      <th>1</th>\n",
       "      <td>Coloring book moana</td>\n",
       "      <td>ART_AND_DESIGN</td>\n",
       "      <td>3.9</td>\n",
       "      <td>967</td>\n",
       "      <td>14M</td>\n",
       "      <td>500,000+</td>\n",
       "      <td>Free</td>\n",
       "      <td>0</td>\n",
       "      <td>Everyone</td>\n",
       "      <td>Art &amp; Design;Pretend Play</td>\n",
       "      <td>January 15, 2018</td>\n",
       "      <td>2.0.0</td>\n",
       "      <td>4.0.3 and up</td>\n",
       "    </tr>\n",
       "    <tr>\n",
       "      <th>2</th>\n",
       "      <td>U Launcher Lite – FREE Live Cool Themes, Hide ...</td>\n",
       "      <td>ART_AND_DESIGN</td>\n",
       "      <td>4.7</td>\n",
       "      <td>87510</td>\n",
       "      <td>8.7M</td>\n",
       "      <td>5,000,000+</td>\n",
       "      <td>Free</td>\n",
       "      <td>0</td>\n",
       "      <td>Everyone</td>\n",
       "      <td>Art &amp; Design</td>\n",
       "      <td>August 1, 2018</td>\n",
       "      <td>1.2.4</td>\n",
       "      <td>4.0.3 and up</td>\n",
       "    </tr>\n",
       "    <tr>\n",
       "      <th>3</th>\n",
       "      <td>Sketch - Draw &amp; Paint</td>\n",
       "      <td>ART_AND_DESIGN</td>\n",
       "      <td>4.5</td>\n",
       "      <td>215644</td>\n",
       "      <td>25M</td>\n",
       "      <td>50,000,000+</td>\n",
       "      <td>Free</td>\n",
       "      <td>0</td>\n",
       "      <td>Teen</td>\n",
       "      <td>Art &amp; Design</td>\n",
       "      <td>June 8, 2018</td>\n",
       "      <td>Varies with device</td>\n",
       "      <td>4.2 and up</td>\n",
       "    </tr>\n",
       "    <tr>\n",
       "      <th>4</th>\n",
       "      <td>Pixel Draw - Number Art Coloring Book</td>\n",
       "      <td>ART_AND_DESIGN</td>\n",
       "      <td>4.3</td>\n",
       "      <td>967</td>\n",
       "      <td>2.8M</td>\n",
       "      <td>100,000+</td>\n",
       "      <td>Free</td>\n",
       "      <td>0</td>\n",
       "      <td>Everyone</td>\n",
       "      <td>Art &amp; Design;Creativity</td>\n",
       "      <td>June 20, 2018</td>\n",
       "      <td>1.1</td>\n",
       "      <td>4.4 and up</td>\n",
       "    </tr>\n",
       "  </tbody>\n",
       "</table>\n",
       "</div>"
      ],
      "text/plain": [
       "                                                 App        Category  Rating  \\\n",
       "0     Photo Editor & Candy Camera & Grid & ScrapBook  ART_AND_DESIGN     4.1   \n",
       "1                                Coloring book moana  ART_AND_DESIGN     3.9   \n",
       "2  U Launcher Lite – FREE Live Cool Themes, Hide ...  ART_AND_DESIGN     4.7   \n",
       "3                              Sketch - Draw & Paint  ART_AND_DESIGN     4.5   \n",
       "4              Pixel Draw - Number Art Coloring Book  ART_AND_DESIGN     4.3   \n",
       "\n",
       "  Reviews  Size     Installs  Type Price Content Rating  \\\n",
       "0     159   19M      10,000+  Free     0       Everyone   \n",
       "1     967   14M     500,000+  Free     0       Everyone   \n",
       "2   87510  8.7M   5,000,000+  Free     0       Everyone   \n",
       "3  215644   25M  50,000,000+  Free     0           Teen   \n",
       "4     967  2.8M     100,000+  Free     0       Everyone   \n",
       "\n",
       "                      Genres      Last Updated         Current Ver  \\\n",
       "0               Art & Design   January 7, 2018               1.0.0   \n",
       "1  Art & Design;Pretend Play  January 15, 2018               2.0.0   \n",
       "2               Art & Design    August 1, 2018               1.2.4   \n",
       "3               Art & Design      June 8, 2018  Varies with device   \n",
       "4    Art & Design;Creativity     June 20, 2018                 1.1   \n",
       "\n",
       "    Android Ver  \n",
       "0  4.0.3 and up  \n",
       "1  4.0.3 and up  \n",
       "2  4.0.3 and up  \n",
       "3    4.2 and up  \n",
       "4    4.4 and up  "
      ]
     },
     "metadata": {},
     "execution_count": 10
    }
   ],
   "metadata": {}
  },
  {
   "cell_type": "markdown",
   "source": [
    "Data cleaning "
   ],
   "metadata": {}
  },
  {
   "cell_type": "code",
   "execution_count": 5,
   "source": [
    "#check for the number of missing values in the dataset \n",
    "googleplay.isnull().sum()"
   ],
   "outputs": [
    {
     "output_type": "execute_result",
     "data": {
      "text/plain": [
       "App                  0\n",
       "Category             0\n",
       "Rating            1474\n",
       "Reviews              0\n",
       "Size                 0\n",
       "Installs             0\n",
       "Type                 1\n",
       "Price                0\n",
       "Content Rating       1\n",
       "Genres               0\n",
       "Last Updated         0\n",
       "Current Ver          8\n",
       "Android Ver          3\n",
       "dtype: int64"
      ]
     },
     "metadata": {},
     "execution_count": 5
    }
   ],
   "metadata": {}
  },
  {
   "cell_type": "code",
   "execution_count": 11,
   "source": [
    "googleplay_cleaned = googleplay.copy()\n",
    "\n",
    "#delete row 10472, where 8 of 13 variables have wrong values\n",
    "googleplay_cleaned = googleplay_cleaned.drop(10472, axis=0)\n",
    "\n",
    "#subtitued the NaN value in Type with free since the price is 0 (\n",
    "googleplay_cleaned[googleplay_cleaned.Type.isnull()]\n",
    "googleplay_cleaned['Type'].fillna(\"Free\", inplace = True)\n",
    "\n",
    "#drop all na in rating \n",
    "googleplay_cleaned= googleplay_cleaned.dropna(subset=[\"Rating\"])\n",
    "\n",
    "#Since rating start from 1.0 to 5.0, subsititing NaN with 0 (making 0 as an indecator of unrated apps) \n",
    "#googleplay_cleaned['Rating'].fillna(0.0, inplace = True)\n",
    "\n",
    "# convert Review, price, and Installs to numeric type   \n",
    "googleplay_cleaned[\"Reviews\"] = googleplay_cleaned[\"Reviews\"].astype(\"int\")\n",
    "\n",
    "#clean the Installs Variable and convert to float \n",
    "googleplay_cleaned['Installs'] = googleplay_cleaned.Installs.str.replace(\"+\",\"\")\n",
    "googleplay_cleaned['Installs'] = googleplay_cleaned.Installs.str.replace(\",\",\"\") # because of this fucker '10,000'\n",
    "googleplay_cleaned[\"Installs\"]= googleplay_cleaned[\"Installs\"].astype(\"int\")\n",
    "\n",
    "#clean PRice and convert to float \n",
    "googleplay_cleaned['Price'] = googleplay_cleaned.Price.str.replace(\"$\",\"\")\n",
    "googleplay_cleaned[\"Price\"] = googleplay_cleaned[\"Price\"].astype(\"float64\") \n",
    "\n",
    "# clean the size variable and convert to float  \n",
    "googleplay_cleaned['Size'] = googleplay_cleaned.Size.str.replace(\"M\",\"1e6\")\n",
    "googleplay_cleaned['Size'] = googleplay_cleaned.Size.str.replace(\"k\",\"1e3\")\n",
    "googleplay_cleaned[\"Size\"] = googleplay_cleaned.Size.str.replace(\"Varies with device\",\"NaN\")\n",
    "googleplay_cleaned[\"Size\"] = googleplay_cleaned[\"Size\"].astype(\"float64\")\n",
    "googleplay_cleaned['Size'].fillna(googleplay_cleaned[\"Size\"].mean(), inplace = True)\n",
    "\n",
    "googleplay_cleaned.isnull().sum()\n",
    "\n"
   ],
   "outputs": [
    {
     "output_type": "stream",
     "name": "stderr",
     "text": [
      "/var/folders/1q/17wbd_xs3c358lsfdpvlg3lr0000gn/T/ipykernel_30140/1869855069.py:20: FutureWarning: The default value of regex will change from True to False in a future version. In addition, single character regular expressions will *not* be treated as literal strings when regex=True.\n",
      "  googleplay_cleaned['Installs'] = googleplay_cleaned.Installs.str.replace(\"+\",\"\")\n",
      "/var/folders/1q/17wbd_xs3c358lsfdpvlg3lr0000gn/T/ipykernel_30140/1869855069.py:25: FutureWarning: The default value of regex will change from True to False in a future version. In addition, single character regular expressions will *not* be treated as literal strings when regex=True.\n",
      "  googleplay_cleaned['Price'] = googleplay_cleaned.Price.str.replace(\"$\",\"\")\n"
     ]
    },
    {
     "output_type": "execute_result",
     "data": {
      "text/plain": [
       "App               0\n",
       "Category          0\n",
       "Rating            0\n",
       "Reviews           0\n",
       "Size              0\n",
       "Installs          0\n",
       "Type              0\n",
       "Price             0\n",
       "Content Rating    0\n",
       "Genres            0\n",
       "Last Updated      0\n",
       "Current Ver       4\n",
       "Android Ver       2\n",
       "dtype: int64"
      ]
     },
     "metadata": {},
     "execution_count": 11
    }
   ],
   "metadata": {}
  },
  {
   "cell_type": "markdown",
   "source": [
    "# Data Analysis: "
   ],
   "metadata": {}
  },
  {
   "cell_type": "markdown",
   "source": [
    "## Price: "
   ],
   "metadata": {}
  },
  {
   "cell_type": "code",
   "execution_count": 12,
   "source": [
    "googleplay_cleaned.groupby('Type')[\"Installs\"].count().sort_values(ascending=True)"
   ],
   "outputs": [
    {
     "output_type": "execute_result",
     "data": {
      "text/plain": [
       "Type\n",
       "Paid     647\n",
       "Free    8719\n",
       "Name: Installs, dtype: int64"
      ]
     },
     "metadata": {},
     "execution_count": 12
    }
   ],
   "metadata": {}
  },
  {
   "cell_type": "code",
   "execution_count": 24,
   "source": [
    "# Free vs Paid distribution based on cato \n",
    "\n",
    "sns.displot(\n",
    "    data=googleplay_cleaned,\n",
    "    x=\"Category\", hue='Type',\n",
    "    palette=[\"#228B22\", \"#D10000\"], \n",
    "     multiple=\"stack\"\n",
    ")\n",
    "plt.xticks(rotation=90)\n",
    "plt.rcParams.update({'font.size': 8})\n",
    "plt.title(\"Type Distribution per Category\")"
   ],
   "outputs": [
    {
     "output_type": "execute_result",
     "data": {
      "text/plain": [
       "Text(0.5, 1.0, 'Type Distribution per Category')"
      ]
     },
     "metadata": {},
     "execution_count": 24
    },
    {
     "output_type": "display_data",
     "data": {
      "image/png": "[encoded data removed]",
      "text/plain": [
       "<Figure size 405.925x360 with 1 Axes>"
      ]
     },
     "metadata": {
      "needs_background": "light"
     }
    }
   ],
   "metadata": {}
  },
  {
   "cell_type": "code",
   "execution_count": 13,
   "source": [
    "#divide dataset based Type (free or paid)\n",
    "Paid_Apps =googleplay_cleaned[ googleplay_cleaned.Type == \"Paid\"]\n",
    "Free_Apps =googleplay_cleaned[ googleplay_cleaned.Type == \"Free\"]\n",
    "Paid_Apps.Installs.mean()\n",
    "Free_Apps.Installs.mean()\n"
   ],
   "outputs": [
    {
     "output_type": "execute_result",
     "data": {
      "text/plain": [
       "19217171.161371715"
      ]
     },
     "metadata": {},
     "execution_count": 13
    }
   ],
   "metadata": {}
  },
  {
   "cell_type": "markdown",
   "source": [
    "On Averge Free apps are downloaded more than paid apps. "
   ],
   "metadata": {}
  },
  {
   "cell_type": "code",
   "execution_count": 14,
   "source": [
    "Paid_Apps[(Paid_Apps.Price <= 19.99) & (Paid_Apps.Price >= 0.99)][\"Category\"].count()\n",
    "# 615 out of 647 paid apps "
   ],
   "outputs": [
    {
     "output_type": "execute_result",
     "data": {
      "text/plain": [
       "615"
      ]
     },
     "metadata": {},
     "execution_count": 14
    }
   ],
   "metadata": {}
  },
  {
   "cell_type": "code",
   "execution_count": 15,
   "source": [
    "googleplay_cleaned[ googleplay_cleaned.Price > 19.99][\"Category\"].count()\n",
    "#32 out of 647 paid apps "
   ],
   "outputs": [
    {
     "output_type": "execute_result",
     "data": {
      "text/plain": [
       "32"
      ]
     },
     "metadata": {},
     "execution_count": 15
    }
   ],
   "metadata": {}
  },
  {
   "cell_type": "code",
   "execution_count": 16,
   "source": [
    "sns.stripplot(Paid_Apps.Price,Paid_Apps.Category, data=Paid_Apps, alpha=0.3)\n",
    "plt.title(\"Price Distribution per Category\")"
   ],
   "outputs": [
    {
     "output_type": "stream",
     "name": "stderr",
     "text": [
      "/Users/AlaAlBinSaleh/Desktop/misk_DS/new_project/Data_Science_Portfolio/PyProtfolio/.venv/lib/python3.9/site-packages/seaborn/_decorators.py:36: FutureWarning: Pass the following variables as keyword args: x, y. From version 0.12, the only valid positional argument will be `data`, and passing other arguments without an explicit keyword will result in an error or misinterpretation.\n",
      "  warnings.warn(\n"
     ]
    },
    {
     "output_type": "execute_result",
     "data": {
      "text/plain": [
       "Text(0.5, 1.0, 'Price Distribution per Category')"
      ]
     },
     "metadata": {},
     "execution_count": 16
    },
    {
     "output_type": "display_data",
     "data": {
      "image/png": "[encoded data removed]",
      "text/plain": [
       "<Figure size 432x288 with 1 Axes>"
      ]
     },
     "metadata": {
      "needs_background": "light"
     }
    }
   ],
   "metadata": {}
  },
  {
   "cell_type": "markdown",
   "source": [
    "The paid apps range from $0.99 to $400. \n",
    "\n",
    "The majority (94%) of the paid app falls between $0.99 and $19.99. while the remaining 6% falls beyond this range. \n",
    "\n",
    "Categories the fall within this rage are Family, Games, photography, communications, \n",
    "Categories such as LIFESTYLE, FINANCE ,MEDICAL have high prices reaching up to 400$\n"
   ],
   "metadata": {}
  },
  {
   "cell_type": "code",
   "execution_count": 17,
   "source": [
    "fig, ax = plt.subplots (figsize=(12, 6))\n",
    "sns.stripplot(Paid_Apps.Price,Paid_Apps.Category, data=Paid_Apps, alpha=0.65)\n",
    "plt.xlim([0, 20])"
   ],
   "outputs": [
    {
     "output_type": "stream",
     "name": "stderr",
     "text": [
      "/Users/AlaAlBinSaleh/Desktop/misk_DS/new_project/Data_Science_Portfolio/PyProtfolio/.venv/lib/python3.9/site-packages/seaborn/_decorators.py:36: FutureWarning: Pass the following variables as keyword args: x, y. From version 0.12, the only valid positional argument will be `data`, and passing other arguments without an explicit keyword will result in an error or misinterpretation.\n",
      "  warnings.warn(\n"
     ]
    },
    {
     "output_type": "execute_result",
     "data": {
      "text/plain": [
       "(0.0, 20.0)"
      ]
     },
     "metadata": {},
     "execution_count": 17
    },
    {
     "output_type": "display_data",
     "data": {
      "image/png": "[encoded data removed]",
      "text/plain": [
       "<Figure size 864x432 with 1 Axes>"
      ]
     },
     "metadata": {
      "needs_background": "light"
     }
    }
   ],
   "metadata": {}
  },
  {
   "cell_type": "markdown",
   "source": [
    "the majority of the categories have a rage of $0.99 to approximately $5. beyond $5, fewer categories such as GAMES, Family, and medical extend to $20. "
   ],
   "metadata": {}
  },
  {
   "cell_type": "code",
   "execution_count": 65,
   "source": [
    "fig, ax = plt.subplots (figsize=(12, 6))\n",
    "sns.scatterplot(Paid_Apps.Price,Paid_Apps.Category, data=Paid_Apps, alpha=0.50)\n",
    "plt.xlim([370, 410])"
   ],
   "outputs": [
    {
     "output_type": "stream",
     "name": "stderr",
     "text": [
      "/Users/AlaAlBinSaleh/Desktop/misk_DS/new_project/Data_Science_Portfolio/PyProtfolio/.venv/lib/python3.9/site-packages/seaborn/_decorators.py:36: FutureWarning: Pass the following variables as keyword args: x, y. From version 0.12, the only valid positional argument will be `data`, and passing other arguments without an explicit keyword will result in an error or misinterpretation.\n",
      "  warnings.warn(\n"
     ]
    },
    {
     "output_type": "execute_result",
     "data": {
      "text/plain": [
       "(398.0, 410.0)"
      ]
     },
     "metadata": {},
     "execution_count": 65
    },
    {
     "output_type": "display_data",
     "data": {
      "image/png": "[encoded data removed]",
      "text/plain": [
       "<Figure size 864x432 with 1 Axes>"
      ]
     },
     "metadata": {
      "needs_background": "light"
     }
    }
   ],
   "metadata": {}
  },
  {
   "cell_type": "code",
   "execution_count": 18,
   "source": [
    "Paid_Apps[(Paid_Apps.Price >= 390)][\"Category\"].count()"
   ],
   "outputs": [
    {
     "output_type": "execute_result",
     "data": {
      "text/plain": [
       "12"
      ]
     },
     "metadata": {},
     "execution_count": 18
    }
   ],
   "metadata": {}
  },
  {
   "cell_type": "markdown",
   "source": [
    "There are 14 Apps with a price greater than 300$ \n",
    "Two apps within the 300$ range, the remaining 12 Apps have a price of 400$ \n",
    "\n",
    "Catergories that have high prices are Family, Finance, Lifestyle. \n"
   ],
   "metadata": {}
  },
  {
   "cell_type": "markdown",
   "source": [
    "## Categories: "
   ],
   "metadata": {}
  },
  {
   "cell_type": "code",
   "execution_count": 19,
   "source": [
    "#find cato with the highest installation \n",
    "InstallsCat = googleplay_cleaned.groupby(['Category'])[\"Installs\"].count().sort_values(ascending=True)\n",
    "#find top 10 Cato\n",
    "InstallsCat.tail(10)"
   ],
   "outputs": [
    {
     "output_type": "execute_result",
     "data": {
      "text/plain": [
       "Category\n",
       "PERSONALIZATION     314\n",
       "PHOTOGRAPHY         317\n",
       "SPORTS              319\n",
       "FINANCE             323\n",
       "COMMUNICATION       328\n",
       "MEDICAL             350\n",
       "PRODUCTIVITY        351\n",
       "TOOLS               734\n",
       "GAME               1097\n",
       "FAMILY             1747\n",
       "Name: Installs, dtype: int64"
      ]
     },
     "metadata": {},
     "execution_count": 19
    }
   ],
   "metadata": {}
  },
  {
   "cell_type": "code",
   "execution_count": 20,
   "source": [
    "googleplay_cleaned.Category.value_counts().plot(kind='barh')"
   ],
   "outputs": [
    {
     "output_type": "execute_result",
     "data": {
      "text/plain": [
       "<AxesSubplot:>"
      ]
     },
     "metadata": {},
     "execution_count": 20
    },
    {
     "output_type": "display_data",
     "data": {
      "image/png": "[encoded data removed]",
      "text/plain": [
       "<Figure size 432x288 with 1 Axes>"
      ]
     },
     "metadata": {
      "needs_background": "light"
     }
    }
   ],
   "metadata": {}
  },
  {
   "cell_type": "code",
   "execution_count": 57,
   "source": [
    "Games = googleplay_cleaned[googleplay_cleaned.Category == \"GAME\"]\n",
    "Games.groupby(\"Genres\")[\"Installs\"].value_counts().sort_values(ascending=True)"
   ],
   "outputs": [
    {
     "output_type": "execute_result",
     "data": {
      "text/plain": [
       "Genres  Installs \n",
       "Casino  50000000      1\n",
       "Card    500           1\n",
       "        50000000      1\n",
       "Casino  100           1\n",
       "Word    50000         1\n",
       "                     ..\n",
       "Action  100000000    37\n",
       "        100000       41\n",
       "Arcade  10000000     46\n",
       "Action  1000000      56\n",
       "        10000000     79\n",
       "Name: Installs, Length: 157, dtype: int64"
      ]
     },
     "metadata": {},
     "execution_count": 57
    }
   ],
   "metadata": {}
  },
  {
   "cell_type": "code",
   "execution_count": 58,
   "source": [
    "Games.Genres.value_counts().plot(kind='barh')"
   ],
   "outputs": [
    {
     "output_type": "execute_result",
     "data": {
      "text/plain": [
       "<AxesSubplot:>"
      ]
     },
     "metadata": {},
     "execution_count": 58
    },
    {
     "output_type": "display_data",
     "data": {
      "image/png": "[encoded data removed]",
      "text/plain": [
       "<Figure size 432x288 with 1 Axes>"
      ]
     },
     "metadata": {
      "needs_background": "light"
     }
    }
   ],
   "metadata": {}
  },
  {
   "cell_type": "code",
   "execution_count": 69,
   "source": [
    "Family = Games = googleplay_cleaned[googleplay_cleaned.Category == \"FAMILY\"]\n",
    "Family.groupby(\"Genres\")[\"Installs\"].value_counts().sort_values(ascending=True)\n",
    "Family.Genres.value_counts().plot(kind='barh',figsize= (15,10))\n"
   ],
   "outputs": [
    {
     "output_type": "execute_result",
     "data": {
      "text/plain": [
       "<AxesSubplot:>"
      ]
     },
     "metadata": {},
     "execution_count": 69
    },
    {
     "output_type": "display_data",
     "data": {
      "image/png": "[encoded data removed]",
      "text/plain": [
       "<Figure size 1080x720 with 1 Axes>"
      ]
     },
     "metadata": {
      "needs_background": "light"
     }
    }
   ],
   "metadata": {}
  },
  {
   "cell_type": "markdown",
   "source": [
    "the most installed Game Apps Genres: Action and Arcade\n",
    "the most installed Family Apps Genres: Entertainment and Education   "
   ],
   "metadata": {}
  },
  {
   "cell_type": "code",
   "execution_count": 72,
   "source": [
    "#Entertainment= Family[Family.Genres == \"Entertainment\"]\n",
    "#Entertainment[\"Installs\"].max() = 1000000000\n",
    "#Entertainment[Entertainment.Installs == 1000000000]"
   ],
   "outputs": [
    {
     "output_type": "execute_result",
     "data": {
      "text/html": [
       "<div>\n",
       "<style scoped>\n",
       "    .dataframe tbody tr th:only-of-type {\n",
       "        vertical-align: middle;\n",
       "    }\n",
       "\n",
       "    .dataframe tbody tr th {\n",
       "        vertical-align: top;\n",
       "    }\n",
       "\n",
       "    .dataframe thead th {\n",
       "        text-align: right;\n",
       "    }\n",
       "</style>\n",
       "<table border=\"1\" class=\"dataframe\">\n",
       "  <thead>\n",
       "    <tr style=\"text-align: right;\">\n",
       "      <th></th>\n",
       "      <th>App</th>\n",
       "      <th>Category</th>\n",
       "      <th>Rating</th>\n",
       "      <th>Reviews</th>\n",
       "      <th>Size</th>\n",
       "      <th>Installs</th>\n",
       "      <th>Type</th>\n",
       "      <th>Price</th>\n",
       "      <th>Content Rating</th>\n",
       "      <th>Genres</th>\n",
       "      <th>Last Updated</th>\n",
       "      <th>Current Ver</th>\n",
       "      <th>Android Ver</th>\n",
       "    </tr>\n",
       "  </thead>\n",
       "  <tbody>\n",
       "    <tr>\n",
       "      <th>5856</th>\n",
       "      <td>Google Play Games</td>\n",
       "      <td>FAMILY</td>\n",
       "      <td>4.3</td>\n",
       "      <td>7168735</td>\n",
       "      <td>2.133576e+08</td>\n",
       "      <td>1000000000</td>\n",
       "      <td>Free</td>\n",
       "      <td>0.0</td>\n",
       "      <td>Teen</td>\n",
       "      <td>Entertainment</td>\n",
       "      <td>July 16, 2018</td>\n",
       "      <td>Varies with device</td>\n",
       "      <td>Varies with device</td>\n",
       "    </tr>\n",
       "  </tbody>\n",
       "</table>\n",
       "</div>"
      ],
      "text/plain": [
       "                    App Category  Rating  Reviews          Size    Installs  \\\n",
       "5856  Google Play Games   FAMILY     4.3  7168735  2.133576e+08  1000000000   \n",
       "\n",
       "      Type  Price Content Rating         Genres   Last Updated  \\\n",
       "5856  Free    0.0           Teen  Entertainment  July 16, 2018   \n",
       "\n",
       "             Current Ver         Android Ver  \n",
       "5856  Varies with device  Varies with device  "
      ]
     },
     "metadata": {},
     "execution_count": 72
    }
   ],
   "metadata": {}
  },
  {
   "cell_type": "markdown",
   "source": [
    "## Rating: "
   ],
   "metadata": {}
  },
  {
   "cell_type": "code",
   "execution_count": 21,
   "source": [
    "#find the average rating, to set it as a threshold \n",
    "np.mean(googleplay_cleaned[\"Rating\"])"
   ],
   "outputs": [
    {
     "output_type": "execute_result",
     "data": {
      "text/plain": [
       "4.191757420456972"
      ]
     },
     "metadata": {},
     "execution_count": 21
    }
   ],
   "metadata": {}
  },
  {
   "cell_type": "code",
   "execution_count": 22,
   "source": [
    "#find cato with the highest installation \n",
    "RatingCat = googleplay_cleaned.groupby(['Category'])[\"Rating\"].mean().sort_values(ascending=True)\n",
    "#find top 5 Cato\n",
    "RatingCat.tail(30)"
   ],
   "outputs": [
    {
     "output_type": "execute_result",
     "data": {
      "text/plain": [
       "Category\n",
       "VIDEO_PLAYERS          4.063750\n",
       "LIFESTYLE              4.094904\n",
       "TRAVEL_AND_LOCAL       4.109292\n",
       "BUSINESS               4.121452\n",
       "ENTERTAINMENT          4.126174\n",
       "FINANCE                4.131889\n",
       "NEWS_AND_MAGAZINES     4.132189\n",
       "COMICS                 4.155172\n",
       "COMMUNICATION          4.158537\n",
       "FOOD_AND_DRINK         4.166972\n",
       "LIBRARIES_AND_DEMO     4.178462\n",
       "MEDICAL                4.189143\n",
       "AUTO_AND_VEHICLES      4.190411\n",
       "PHOTOGRAPHY            4.192114\n",
       "FAMILY                 4.192272\n",
       "HOUSE_AND_HOME         4.197368\n",
       "PRODUCTIVITY           4.211396\n",
       "SPORTS                 4.223511\n",
       "WEATHER                4.244000\n",
       "SOCIAL                 4.255598\n",
       "SHOPPING               4.259664\n",
       "HEALTH_AND_FITNESS     4.277104\n",
       "BEAUTY                 4.278571\n",
       "GAME                   4.286326\n",
       "PARENTING              4.300000\n",
       "PERSONALIZATION        4.335987\n",
       "BOOKS_AND_REFERENCE    4.346067\n",
       "ART_AND_DESIGN         4.358065\n",
       "EDUCATION              4.389032\n",
       "EVENTS                 4.435556\n",
       "Name: Rating, dtype: float64"
      ]
     },
     "metadata": {},
     "execution_count": 22
    }
   ],
   "metadata": {}
  },
  {
   "cell_type": "markdown",
   "source": [
    "The results above shows that more than half of the most intalled categories have a rating that is equal or greater than the average rating of 3.6. \n",
    "\n",
    "Therefore, apps the falls in categoriesthat are for everone scores higher in the rating and the number of installation. "
   ],
   "metadata": {}
  },
  {
   "cell_type": "code",
   "execution_count": 23,
   "source": [
    "# Price vs rating plots \n",
    "sns.displot(\n",
    "    data=googleplay_cleaned,\n",
    "    x=\"Rating\", hue='Type',\n",
    "    palette=[\"#228B22\", \"#D10000\"], \n",
    "     multiple=\"stack\"\n",
    ")\n",
    "plt.title(\"Price vs Rating\")"
   ],
   "outputs": [
    {
     "output_type": "execute_result",
     "data": {
      "text/plain": [
       "Text(0.5, 1.0, 'Price vs Rating')"
      ]
     },
     "metadata": {},
     "execution_count": 23
    },
    {
     "output_type": "display_data",
     "data": {
      "image/png": "[encoded data removed]",
      "text/plain": [
       "<Figure size 417.125x360 with 1 Axes>"
      ]
     },
     "metadata": {
      "needs_background": "light"
     }
    }
   ],
   "metadata": {}
  },
  {
   "cell_type": "markdown",
   "source": [
    "## Content Rating: "
   ],
   "metadata": {}
  },
  {
   "cell_type": "code",
   "execution_count": 24,
   "source": [
    "# What makes these categories have high rating and installation number\n",
    "# check the intened audience for these cato\n",
    "Categories= googleplay_cleaned[googleplay_cleaned.Category.isin([\"FAMILY\", \"GAME\", \"TOOLS\", \"MEDICAL\", \"BUSINESS\"])]\n",
    "Categories.groupby(\"Content Rating\")[\"App\"].count()\n"
   ],
   "outputs": [
    {
     "output_type": "execute_result",
     "data": {
      "text/plain": [
       "Content Rating\n",
       "Everyone        3263\n",
       "Everyone 10+     264\n",
       "Mature 17+       125\n",
       "Teen             578\n",
       "Unrated            1\n",
       "Name: App, dtype: int64"
      ]
     },
     "metadata": {},
     "execution_count": 24
    }
   ],
   "metadata": {}
  },
  {
   "cell_type": "markdown",
   "source": [
    "Apps that are for Everyone and Teen have the most count / Installations "
   ],
   "metadata": {}
  },
  {
   "cell_type": "markdown",
   "source": [
    "## Size: "
   ],
   "metadata": {}
  },
  {
   "cell_type": "code",
   "execution_count": 25,
   "source": [
    "#Check the the size of Apps \n",
    "np.median(googleplay_cleaned[\"Size\"])"
   ],
   "outputs": [
    {
     "output_type": "execute_result",
     "data": {
      "text/plain": [
       "211000000.0"
      ]
     },
     "metadata": {},
     "execution_count": 25
    }
   ],
   "metadata": {}
  },
  {
   "cell_type": "code",
   "execution_count": 26,
   "source": [
    "sns.kdeplot(data=googleplay_cleaned, x=\"Size\")"
   ],
   "outputs": [
    {
     "output_type": "execute_result",
     "data": {
      "text/plain": [
       "<AxesSubplot:xlabel='Size', ylabel='Density'>"
      ]
     },
     "metadata": {},
     "execution_count": 26
    },
    {
     "output_type": "display_data",
     "data": {
      "image/png": "[encoded data removed]",
      "text/plain": [
       "<Figure size 432x288 with 1 Axes>"
      ]
     },
     "metadata": {
      "needs_background": "light"
     }
    }
   ],
   "metadata": {}
  },
  {
   "cell_type": "markdown",
   "source": [
    "Most apps have a size that 200MB or less ??"
   ],
   "metadata": {}
  },
  {
   "cell_type": "markdown",
   "source": [
    "## Reviews:"
   ],
   "metadata": {}
  },
  {
   "cell_type": "code",
   "execution_count": 27,
   "source": [
    "f,ax = plt.subplots(figsize = (10,10))\n",
    "sns.heatmap(googleplay_cleaned.corr(), annot = True, linewidths = .5, fmt = \".2f\", ax=ax)\n",
    "plt.title(\"Correlation Map between all variables\")"
   ],
   "outputs": [
    {
     "output_type": "execute_result",
     "data": {
      "text/plain": [
       "Text(0.5, 1.0, 'Correlation Map between all variables')"
      ]
     },
     "metadata": {},
     "execution_count": 27
    },
    {
     "output_type": "display_data",
     "data": {
      "image/png": "[encoded data removed]",
      "text/plain": [
       "<Figure size 720x720 with 2 Axes>"
      ]
     },
     "metadata": {
      "needs_background": "light"
     }
    }
   ],
   "metadata": {}
  },
  {
   "cell_type": "code",
   "execution_count": 74,
   "source": [
    "np.max(googleplay_cleaned.Installs) # 1000000000\n",
    "np.max(googleplay_cleaned.Reviews) #~= 80000000\n",
    "#np.mean(googleplay_cleaned.Reviews) = 514049.8"
   ],
   "outputs": [
    {
     "output_type": "execute_result",
     "data": {
      "text/plain": [
       "78158306"
      ]
     },
     "metadata": {},
     "execution_count": 74
    }
   ],
   "metadata": {}
  },
  {
   "cell_type": "code",
   "execution_count": 29,
   "source": [
    "googleplay_cleaned[googleplay_cleaned.Reviews> 60000000]\n",
    "googleplay_cleaned[googleplay_cleaned.Installs > 800000000].sort_values(ascending=True)\n"
   ],
   "outputs": [
    {
     "output_type": "execute_result",
     "data": {
      "text/html": [
       "<div>\n",
       "<style scoped>\n",
       "    .dataframe tbody tr th:only-of-type {\n",
       "        vertical-align: middle;\n",
       "    }\n",
       "\n",
       "    .dataframe tbody tr th {\n",
       "        vertical-align: top;\n",
       "    }\n",
       "\n",
       "    .dataframe thead th {\n",
       "        text-align: right;\n",
       "    }\n",
       "</style>\n",
       "<table border=\"1\" class=\"dataframe\">\n",
       "  <thead>\n",
       "    <tr style=\"text-align: right;\">\n",
       "      <th></th>\n",
       "      <th>App</th>\n",
       "      <th>Category</th>\n",
       "      <th>Rating</th>\n",
       "      <th>Reviews</th>\n",
       "      <th>Size</th>\n",
       "      <th>Installs</th>\n",
       "      <th>Type</th>\n",
       "      <th>Price</th>\n",
       "      <th>Content Rating</th>\n",
       "      <th>Genres</th>\n",
       "      <th>Last Updated</th>\n",
       "      <th>Current Ver</th>\n",
       "      <th>Android Ver</th>\n",
       "    </tr>\n",
       "  </thead>\n",
       "  <tbody>\n",
       "    <tr>\n",
       "      <th>152</th>\n",
       "      <td>Google Play Books</td>\n",
       "      <td>BOOKS_AND_REFERENCE</td>\n",
       "      <td>3.9</td>\n",
       "      <td>1433233</td>\n",
       "      <td>2.133576e+08</td>\n",
       "      <td>1000000000</td>\n",
       "      <td>Free</td>\n",
       "      <td>0.0</td>\n",
       "      <td>Teen</td>\n",
       "      <td>Books &amp; Reference</td>\n",
       "      <td>August 3, 2018</td>\n",
       "      <td>Varies with device</td>\n",
       "      <td>Varies with device</td>\n",
       "    </tr>\n",
       "    <tr>\n",
       "      <th>335</th>\n",
       "      <td>Messenger – Text and Video Chat for Free</td>\n",
       "      <td>COMMUNICATION</td>\n",
       "      <td>4.0</td>\n",
       "      <td>56642847</td>\n",
       "      <td>2.133576e+08</td>\n",
       "      <td>1000000000</td>\n",
       "      <td>Free</td>\n",
       "      <td>0.0</td>\n",
       "      <td>Everyone</td>\n",
       "      <td>Communication</td>\n",
       "      <td>August 1, 2018</td>\n",
       "      <td>Varies with device</td>\n",
       "      <td>Varies with device</td>\n",
       "    </tr>\n",
       "    <tr>\n",
       "      <th>336</th>\n",
       "      <td>WhatsApp Messenger</td>\n",
       "      <td>COMMUNICATION</td>\n",
       "      <td>4.4</td>\n",
       "      <td>69119316</td>\n",
       "      <td>2.133576e+08</td>\n",
       "      <td>1000000000</td>\n",
       "      <td>Free</td>\n",
       "      <td>0.0</td>\n",
       "      <td>Everyone</td>\n",
       "      <td>Communication</td>\n",
       "      <td>August 3, 2018</td>\n",
       "      <td>Varies with device</td>\n",
       "      <td>Varies with device</td>\n",
       "    </tr>\n",
       "    <tr>\n",
       "      <th>338</th>\n",
       "      <td>Google Chrome: Fast &amp; Secure</td>\n",
       "      <td>COMMUNICATION</td>\n",
       "      <td>4.3</td>\n",
       "      <td>9642995</td>\n",
       "      <td>2.133576e+08</td>\n",
       "      <td>1000000000</td>\n",
       "      <td>Free</td>\n",
       "      <td>0.0</td>\n",
       "      <td>Everyone</td>\n",
       "      <td>Communication</td>\n",
       "      <td>August 1, 2018</td>\n",
       "      <td>Varies with device</td>\n",
       "      <td>Varies with device</td>\n",
       "    </tr>\n",
       "    <tr>\n",
       "      <th>340</th>\n",
       "      <td>Gmail</td>\n",
       "      <td>COMMUNICATION</td>\n",
       "      <td>4.3</td>\n",
       "      <td>4604324</td>\n",
       "      <td>2.133576e+08</td>\n",
       "      <td>1000000000</td>\n",
       "      <td>Free</td>\n",
       "      <td>0.0</td>\n",
       "      <td>Everyone</td>\n",
       "      <td>Communication</td>\n",
       "      <td>August 2, 2018</td>\n",
       "      <td>Varies with device</td>\n",
       "      <td>Varies with device</td>\n",
       "    </tr>\n",
       "    <tr>\n",
       "      <th>341</th>\n",
       "      <td>Hangouts</td>\n",
       "      <td>COMMUNICATION</td>\n",
       "      <td>4.0</td>\n",
       "      <td>3419249</td>\n",
       "      <td>2.133576e+08</td>\n",
       "      <td>1000000000</td>\n",
       "      <td>Free</td>\n",
       "      <td>0.0</td>\n",
       "      <td>Everyone</td>\n",
       "      <td>Communication</td>\n",
       "      <td>July 21, 2018</td>\n",
       "      <td>Varies with device</td>\n",
       "      <td>Varies with device</td>\n",
       "    </tr>\n",
       "    <tr>\n",
       "      <th>381</th>\n",
       "      <td>WhatsApp Messenger</td>\n",
       "      <td>COMMUNICATION</td>\n",
       "      <td>4.4</td>\n",
       "      <td>69119316</td>\n",
       "      <td>2.133576e+08</td>\n",
       "      <td>1000000000</td>\n",
       "      <td>Free</td>\n",
       "      <td>0.0</td>\n",
       "      <td>Everyone</td>\n",
       "      <td>Communication</td>\n",
       "      <td>August 3, 2018</td>\n",
       "      <td>Varies with device</td>\n",
       "      <td>Varies with device</td>\n",
       "    </tr>\n",
       "    <tr>\n",
       "      <th>382</th>\n",
       "      <td>Messenger – Text and Video Chat for Free</td>\n",
       "      <td>COMMUNICATION</td>\n",
       "      <td>4.0</td>\n",
       "      <td>56646578</td>\n",
       "      <td>2.133576e+08</td>\n",
       "      <td>1000000000</td>\n",
       "      <td>Free</td>\n",
       "      <td>0.0</td>\n",
       "      <td>Everyone</td>\n",
       "      <td>Communication</td>\n",
       "      <td>August 1, 2018</td>\n",
       "      <td>Varies with device</td>\n",
       "      <td>Varies with device</td>\n",
       "    </tr>\n",
       "    <tr>\n",
       "      <th>386</th>\n",
       "      <td>Hangouts</td>\n",
       "      <td>COMMUNICATION</td>\n",
       "      <td>4.0</td>\n",
       "      <td>3419433</td>\n",
       "      <td>2.133576e+08</td>\n",
       "      <td>1000000000</td>\n",
       "      <td>Free</td>\n",
       "      <td>0.0</td>\n",
       "      <td>Everyone</td>\n",
       "      <td>Communication</td>\n",
       "      <td>July 21, 2018</td>\n",
       "      <td>Varies with device</td>\n",
       "      <td>Varies with device</td>\n",
       "    </tr>\n",
       "    <tr>\n",
       "      <th>391</th>\n",
       "      <td>Skype - free IM &amp; video calls</td>\n",
       "      <td>COMMUNICATION</td>\n",
       "      <td>4.1</td>\n",
       "      <td>10484169</td>\n",
       "      <td>2.133576e+08</td>\n",
       "      <td>1000000000</td>\n",
       "      <td>Free</td>\n",
       "      <td>0.0</td>\n",
       "      <td>Everyone</td>\n",
       "      <td>Communication</td>\n",
       "      <td>August 3, 2018</td>\n",
       "      <td>Varies with device</td>\n",
       "      <td>Varies with device</td>\n",
       "    </tr>\n",
       "    <tr>\n",
       "      <th>411</th>\n",
       "      <td>Google Chrome: Fast &amp; Secure</td>\n",
       "      <td>COMMUNICATION</td>\n",
       "      <td>4.3</td>\n",
       "      <td>9643041</td>\n",
       "      <td>2.133576e+08</td>\n",
       "      <td>1000000000</td>\n",
       "      <td>Free</td>\n",
       "      <td>0.0</td>\n",
       "      <td>Everyone</td>\n",
       "      <td>Communication</td>\n",
       "      <td>August 1, 2018</td>\n",
       "      <td>Varies with device</td>\n",
       "      <td>Varies with device</td>\n",
       "    </tr>\n",
       "    <tr>\n",
       "      <th>451</th>\n",
       "      <td>Gmail</td>\n",
       "      <td>COMMUNICATION</td>\n",
       "      <td>4.3</td>\n",
       "      <td>4604483</td>\n",
       "      <td>2.133576e+08</td>\n",
       "      <td>1000000000</td>\n",
       "      <td>Free</td>\n",
       "      <td>0.0</td>\n",
       "      <td>Everyone</td>\n",
       "      <td>Communication</td>\n",
       "      <td>August 2, 2018</td>\n",
       "      <td>Varies with device</td>\n",
       "      <td>Varies with device</td>\n",
       "    </tr>\n",
       "    <tr>\n",
       "      <th>464</th>\n",
       "      <td>Hangouts</td>\n",
       "      <td>COMMUNICATION</td>\n",
       "      <td>4.0</td>\n",
       "      <td>3419513</td>\n",
       "      <td>2.133576e+08</td>\n",
       "      <td>1000000000</td>\n",
       "      <td>Free</td>\n",
       "      <td>0.0</td>\n",
       "      <td>Everyone</td>\n",
       "      <td>Communication</td>\n",
       "      <td>July 21, 2018</td>\n",
       "      <td>Varies with device</td>\n",
       "      <td>Varies with device</td>\n",
       "    </tr>\n",
       "    <tr>\n",
       "      <th>468</th>\n",
       "      <td>Skype - free IM &amp; video calls</td>\n",
       "      <td>COMMUNICATION</td>\n",
       "      <td>4.1</td>\n",
       "      <td>10484169</td>\n",
       "      <td>2.133576e+08</td>\n",
       "      <td>1000000000</td>\n",
       "      <td>Free</td>\n",
       "      <td>0.0</td>\n",
       "      <td>Everyone</td>\n",
       "      <td>Communication</td>\n",
       "      <td>August 3, 2018</td>\n",
       "      <td>Varies with device</td>\n",
       "      <td>Varies with device</td>\n",
       "    </tr>\n",
       "    <tr>\n",
       "      <th>865</th>\n",
       "      <td>Google Play Games</td>\n",
       "      <td>ENTERTAINMENT</td>\n",
       "      <td>4.3</td>\n",
       "      <td>7165362</td>\n",
       "      <td>2.133576e+08</td>\n",
       "      <td>1000000000</td>\n",
       "      <td>Free</td>\n",
       "      <td>0.0</td>\n",
       "      <td>Teen</td>\n",
       "      <td>Entertainment</td>\n",
       "      <td>July 16, 2018</td>\n",
       "      <td>Varies with device</td>\n",
       "      <td>Varies with device</td>\n",
       "    </tr>\n",
       "    <tr>\n",
       "      <th>1654</th>\n",
       "      <td>Subway Surfers</td>\n",
       "      <td>GAME</td>\n",
       "      <td>4.5</td>\n",
       "      <td>27722264</td>\n",
       "      <td>7.610000e+08</td>\n",
       "      <td>1000000000</td>\n",
       "      <td>Free</td>\n",
       "      <td>0.0</td>\n",
       "      <td>Everyone 10+</td>\n",
       "      <td>Arcade</td>\n",
       "      <td>July 12, 2018</td>\n",
       "      <td>1.90.0</td>\n",
       "      <td>4.1 and up</td>\n",
       "    </tr>\n",
       "    <tr>\n",
       "      <th>1700</th>\n",
       "      <td>Subway Surfers</td>\n",
       "      <td>GAME</td>\n",
       "      <td>4.5</td>\n",
       "      <td>27723193</td>\n",
       "      <td>7.610000e+08</td>\n",
       "      <td>1000000000</td>\n",
       "      <td>Free</td>\n",
       "      <td>0.0</td>\n",
       "      <td>Everyone 10+</td>\n",
       "      <td>Arcade</td>\n",
       "      <td>July 12, 2018</td>\n",
       "      <td>1.90.0</td>\n",
       "      <td>4.1 and up</td>\n",
       "    </tr>\n",
       "    <tr>\n",
       "      <th>1750</th>\n",
       "      <td>Subway Surfers</td>\n",
       "      <td>GAME</td>\n",
       "      <td>4.5</td>\n",
       "      <td>27724094</td>\n",
       "      <td>7.610000e+08</td>\n",
       "      <td>1000000000</td>\n",
       "      <td>Free</td>\n",
       "      <td>0.0</td>\n",
       "      <td>Everyone 10+</td>\n",
       "      <td>Arcade</td>\n",
       "      <td>July 12, 2018</td>\n",
       "      <td>1.90.0</td>\n",
       "      <td>4.1 and up</td>\n",
       "    </tr>\n",
       "    <tr>\n",
       "      <th>1872</th>\n",
       "      <td>Subway Surfers</td>\n",
       "      <td>GAME</td>\n",
       "      <td>4.5</td>\n",
       "      <td>27725352</td>\n",
       "      <td>7.610000e+08</td>\n",
       "      <td>1000000000</td>\n",
       "      <td>Free</td>\n",
       "      <td>0.0</td>\n",
       "      <td>Everyone 10+</td>\n",
       "      <td>Arcade</td>\n",
       "      <td>July 12, 2018</td>\n",
       "      <td>1.90.0</td>\n",
       "      <td>4.1 and up</td>\n",
       "    </tr>\n",
       "    <tr>\n",
       "      <th>1917</th>\n",
       "      <td>Subway Surfers</td>\n",
       "      <td>GAME</td>\n",
       "      <td>4.5</td>\n",
       "      <td>27725352</td>\n",
       "      <td>7.610000e+08</td>\n",
       "      <td>1000000000</td>\n",
       "      <td>Free</td>\n",
       "      <td>0.0</td>\n",
       "      <td>Everyone 10+</td>\n",
       "      <td>Arcade</td>\n",
       "      <td>July 12, 2018</td>\n",
       "      <td>1.90.0</td>\n",
       "      <td>4.1 and up</td>\n",
       "    </tr>\n",
       "    <tr>\n",
       "      <th>2544</th>\n",
       "      <td>Facebook</td>\n",
       "      <td>SOCIAL</td>\n",
       "      <td>4.1</td>\n",
       "      <td>78158306</td>\n",
       "      <td>2.133576e+08</td>\n",
       "      <td>1000000000</td>\n",
       "      <td>Free</td>\n",
       "      <td>0.0</td>\n",
       "      <td>Teen</td>\n",
       "      <td>Social</td>\n",
       "      <td>August 3, 2018</td>\n",
       "      <td>Varies with device</td>\n",
       "      <td>Varies with device</td>\n",
       "    </tr>\n",
       "    <tr>\n",
       "      <th>2545</th>\n",
       "      <td>Instagram</td>\n",
       "      <td>SOCIAL</td>\n",
       "      <td>4.5</td>\n",
       "      <td>66577313</td>\n",
       "      <td>2.133576e+08</td>\n",
       "      <td>1000000000</td>\n",
       "      <td>Free</td>\n",
       "      <td>0.0</td>\n",
       "      <td>Teen</td>\n",
       "      <td>Social</td>\n",
       "      <td>July 31, 2018</td>\n",
       "      <td>Varies with device</td>\n",
       "      <td>Varies with device</td>\n",
       "    </tr>\n",
       "    <tr>\n",
       "      <th>2554</th>\n",
       "      <td>Google+</td>\n",
       "      <td>SOCIAL</td>\n",
       "      <td>4.2</td>\n",
       "      <td>4831125</td>\n",
       "      <td>2.133576e+08</td>\n",
       "      <td>1000000000</td>\n",
       "      <td>Free</td>\n",
       "      <td>0.0</td>\n",
       "      <td>Teen</td>\n",
       "      <td>Social</td>\n",
       "      <td>July 26, 2018</td>\n",
       "      <td>Varies with device</td>\n",
       "      <td>Varies with device</td>\n",
       "    </tr>\n",
       "    <tr>\n",
       "      <th>2604</th>\n",
       "      <td>Instagram</td>\n",
       "      <td>SOCIAL</td>\n",
       "      <td>4.5</td>\n",
       "      <td>66577446</td>\n",
       "      <td>2.133576e+08</td>\n",
       "      <td>1000000000</td>\n",
       "      <td>Free</td>\n",
       "      <td>0.0</td>\n",
       "      <td>Teen</td>\n",
       "      <td>Social</td>\n",
       "      <td>July 31, 2018</td>\n",
       "      <td>Varies with device</td>\n",
       "      <td>Varies with device</td>\n",
       "    </tr>\n",
       "    <tr>\n",
       "      <th>2611</th>\n",
       "      <td>Instagram</td>\n",
       "      <td>SOCIAL</td>\n",
       "      <td>4.5</td>\n",
       "      <td>66577313</td>\n",
       "      <td>2.133576e+08</td>\n",
       "      <td>1000000000</td>\n",
       "      <td>Free</td>\n",
       "      <td>0.0</td>\n",
       "      <td>Teen</td>\n",
       "      <td>Social</td>\n",
       "      <td>July 31, 2018</td>\n",
       "      <td>Varies with device</td>\n",
       "      <td>Varies with device</td>\n",
       "    </tr>\n",
       "    <tr>\n",
       "      <th>2808</th>\n",
       "      <td>Google Photos</td>\n",
       "      <td>PHOTOGRAPHY</td>\n",
       "      <td>4.5</td>\n",
       "      <td>10858556</td>\n",
       "      <td>2.133576e+08</td>\n",
       "      <td>1000000000</td>\n",
       "      <td>Free</td>\n",
       "      <td>0.0</td>\n",
       "      <td>Everyone</td>\n",
       "      <td>Photography</td>\n",
       "      <td>August 6, 2018</td>\n",
       "      <td>Varies with device</td>\n",
       "      <td>Varies with device</td>\n",
       "    </tr>\n",
       "    <tr>\n",
       "      <th>2853</th>\n",
       "      <td>Google Photos</td>\n",
       "      <td>PHOTOGRAPHY</td>\n",
       "      <td>4.5</td>\n",
       "      <td>10858538</td>\n",
       "      <td>2.133576e+08</td>\n",
       "      <td>1000000000</td>\n",
       "      <td>Free</td>\n",
       "      <td>0.0</td>\n",
       "      <td>Everyone</td>\n",
       "      <td>Photography</td>\n",
       "      <td>August 6, 2018</td>\n",
       "      <td>Varies with device</td>\n",
       "      <td>Varies with device</td>\n",
       "    </tr>\n",
       "    <tr>\n",
       "      <th>2884</th>\n",
       "      <td>Google Photos</td>\n",
       "      <td>PHOTOGRAPHY</td>\n",
       "      <td>4.5</td>\n",
       "      <td>10859051</td>\n",
       "      <td>2.133576e+08</td>\n",
       "      <td>1000000000</td>\n",
       "      <td>Free</td>\n",
       "      <td>0.0</td>\n",
       "      <td>Everyone</td>\n",
       "      <td>Photography</td>\n",
       "      <td>August 6, 2018</td>\n",
       "      <td>Varies with device</td>\n",
       "      <td>Varies with device</td>\n",
       "    </tr>\n",
       "    <tr>\n",
       "      <th>3117</th>\n",
       "      <td>Maps - Navigate &amp; Explore</td>\n",
       "      <td>TRAVEL_AND_LOCAL</td>\n",
       "      <td>4.3</td>\n",
       "      <td>9235155</td>\n",
       "      <td>2.133576e+08</td>\n",
       "      <td>1000000000</td>\n",
       "      <td>Free</td>\n",
       "      <td>0.0</td>\n",
       "      <td>Everyone</td>\n",
       "      <td>Travel &amp; Local</td>\n",
       "      <td>July 31, 2018</td>\n",
       "      <td>Varies with device</td>\n",
       "      <td>Varies with device</td>\n",
       "    </tr>\n",
       "    <tr>\n",
       "      <th>3127</th>\n",
       "      <td>Google Street View</td>\n",
       "      <td>TRAVEL_AND_LOCAL</td>\n",
       "      <td>4.2</td>\n",
       "      <td>2129689</td>\n",
       "      <td>2.133576e+08</td>\n",
       "      <td>1000000000</td>\n",
       "      <td>Free</td>\n",
       "      <td>0.0</td>\n",
       "      <td>Everyone</td>\n",
       "      <td>Travel &amp; Local</td>\n",
       "      <td>August 6, 2018</td>\n",
       "      <td>Varies with device</td>\n",
       "      <td>Varies with device</td>\n",
       "    </tr>\n",
       "    <tr>\n",
       "      <th>3223</th>\n",
       "      <td>Maps - Navigate &amp; Explore</td>\n",
       "      <td>TRAVEL_AND_LOCAL</td>\n",
       "      <td>4.3</td>\n",
       "      <td>9235373</td>\n",
       "      <td>2.133576e+08</td>\n",
       "      <td>1000000000</td>\n",
       "      <td>Free</td>\n",
       "      <td>0.0</td>\n",
       "      <td>Everyone</td>\n",
       "      <td>Travel &amp; Local</td>\n",
       "      <td>July 31, 2018</td>\n",
       "      <td>Varies with device</td>\n",
       "      <td>Varies with device</td>\n",
       "    </tr>\n",
       "    <tr>\n",
       "      <th>3232</th>\n",
       "      <td>Google Street View</td>\n",
       "      <td>TRAVEL_AND_LOCAL</td>\n",
       "      <td>4.2</td>\n",
       "      <td>2129707</td>\n",
       "      <td>2.133576e+08</td>\n",
       "      <td>1000000000</td>\n",
       "      <td>Free</td>\n",
       "      <td>0.0</td>\n",
       "      <td>Everyone</td>\n",
       "      <td>Travel &amp; Local</td>\n",
       "      <td>August 6, 2018</td>\n",
       "      <td>Varies with device</td>\n",
       "      <td>Varies with device</td>\n",
       "    </tr>\n",
       "    <tr>\n",
       "      <th>3234</th>\n",
       "      <td>Google</td>\n",
       "      <td>TOOLS</td>\n",
       "      <td>4.4</td>\n",
       "      <td>8033493</td>\n",
       "      <td>2.133576e+08</td>\n",
       "      <td>1000000000</td>\n",
       "      <td>Free</td>\n",
       "      <td>0.0</td>\n",
       "      <td>Everyone</td>\n",
       "      <td>Tools</td>\n",
       "      <td>August 3, 2018</td>\n",
       "      <td>Varies with device</td>\n",
       "      <td>Varies with device</td>\n",
       "    </tr>\n",
       "    <tr>\n",
       "      <th>3454</th>\n",
       "      <td>Google Drive</td>\n",
       "      <td>PRODUCTIVITY</td>\n",
       "      <td>4.4</td>\n",
       "      <td>2731171</td>\n",
       "      <td>2.133576e+08</td>\n",
       "      <td>1000000000</td>\n",
       "      <td>Free</td>\n",
       "      <td>0.0</td>\n",
       "      <td>Everyone</td>\n",
       "      <td>Productivity</td>\n",
       "      <td>August 6, 2018</td>\n",
       "      <td>Varies with device</td>\n",
       "      <td>Varies with device</td>\n",
       "    </tr>\n",
       "    <tr>\n",
       "      <th>3523</th>\n",
       "      <td>Google Drive</td>\n",
       "      <td>PRODUCTIVITY</td>\n",
       "      <td>4.4</td>\n",
       "      <td>2731211</td>\n",
       "      <td>2.133576e+08</td>\n",
       "      <td>1000000000</td>\n",
       "      <td>Free</td>\n",
       "      <td>0.0</td>\n",
       "      <td>Everyone</td>\n",
       "      <td>Productivity</td>\n",
       "      <td>August 6, 2018</td>\n",
       "      <td>Varies with device</td>\n",
       "      <td>Varies with device</td>\n",
       "    </tr>\n",
       "    <tr>\n",
       "      <th>3565</th>\n",
       "      <td>Google Drive</td>\n",
       "      <td>PRODUCTIVITY</td>\n",
       "      <td>4.4</td>\n",
       "      <td>2731211</td>\n",
       "      <td>2.133576e+08</td>\n",
       "      <td>1000000000</td>\n",
       "      <td>Free</td>\n",
       "      <td>0.0</td>\n",
       "      <td>Everyone</td>\n",
       "      <td>Productivity</td>\n",
       "      <td>August 6, 2018</td>\n",
       "      <td>Varies with device</td>\n",
       "      <td>Varies with device</td>\n",
       "    </tr>\n",
       "    <tr>\n",
       "      <th>3665</th>\n",
       "      <td>YouTube</td>\n",
       "      <td>VIDEO_PLAYERS</td>\n",
       "      <td>4.3</td>\n",
       "      <td>25655305</td>\n",
       "      <td>2.133576e+08</td>\n",
       "      <td>1000000000</td>\n",
       "      <td>Free</td>\n",
       "      <td>0.0</td>\n",
       "      <td>Teen</td>\n",
       "      <td>Video Players &amp; Editors</td>\n",
       "      <td>August 2, 2018</td>\n",
       "      <td>Varies with device</td>\n",
       "      <td>Varies with device</td>\n",
       "    </tr>\n",
       "    <tr>\n",
       "      <th>3687</th>\n",
       "      <td>Google Play Movies &amp; TV</td>\n",
       "      <td>VIDEO_PLAYERS</td>\n",
       "      <td>3.7</td>\n",
       "      <td>906384</td>\n",
       "      <td>2.133576e+08</td>\n",
       "      <td>1000000000</td>\n",
       "      <td>Free</td>\n",
       "      <td>0.0</td>\n",
       "      <td>Teen</td>\n",
       "      <td>Video Players &amp; Editors</td>\n",
       "      <td>August 6, 2018</td>\n",
       "      <td>Varies with device</td>\n",
       "      <td>Varies with device</td>\n",
       "    </tr>\n",
       "    <tr>\n",
       "      <th>3736</th>\n",
       "      <td>Google News</td>\n",
       "      <td>NEWS_AND_MAGAZINES</td>\n",
       "      <td>3.9</td>\n",
       "      <td>877635</td>\n",
       "      <td>1.310000e+08</td>\n",
       "      <td>1000000000</td>\n",
       "      <td>Free</td>\n",
       "      <td>0.0</td>\n",
       "      <td>Teen</td>\n",
       "      <td>News &amp; Magazines</td>\n",
       "      <td>August 1, 2018</td>\n",
       "      <td>5.2.0</td>\n",
       "      <td>4.4 and up</td>\n",
       "    </tr>\n",
       "    <tr>\n",
       "      <th>3765</th>\n",
       "      <td>Google News</td>\n",
       "      <td>NEWS_AND_MAGAZINES</td>\n",
       "      <td>3.9</td>\n",
       "      <td>877635</td>\n",
       "      <td>1.310000e+08</td>\n",
       "      <td>1000000000</td>\n",
       "      <td>Free</td>\n",
       "      <td>0.0</td>\n",
       "      <td>Teen</td>\n",
       "      <td>News &amp; Magazines</td>\n",
       "      <td>August 1, 2018</td>\n",
       "      <td>5.2.0</td>\n",
       "      <td>4.4 and up</td>\n",
       "    </tr>\n",
       "    <tr>\n",
       "      <th>3816</th>\n",
       "      <td>Google News</td>\n",
       "      <td>NEWS_AND_MAGAZINES</td>\n",
       "      <td>3.9</td>\n",
       "      <td>877643</td>\n",
       "      <td>1.310000e+08</td>\n",
       "      <td>1000000000</td>\n",
       "      <td>Free</td>\n",
       "      <td>0.0</td>\n",
       "      <td>Teen</td>\n",
       "      <td>News &amp; Magazines</td>\n",
       "      <td>August 1, 2018</td>\n",
       "      <td>5.2.0</td>\n",
       "      <td>4.4 and up</td>\n",
       "    </tr>\n",
       "    <tr>\n",
       "      <th>3896</th>\n",
       "      <td>Subway Surfers</td>\n",
       "      <td>GAME</td>\n",
       "      <td>4.5</td>\n",
       "      <td>27711703</td>\n",
       "      <td>7.610000e+08</td>\n",
       "      <td>1000000000</td>\n",
       "      <td>Free</td>\n",
       "      <td>0.0</td>\n",
       "      <td>Everyone 10+</td>\n",
       "      <td>Arcade</td>\n",
       "      <td>July 12, 2018</td>\n",
       "      <td>1.90.0</td>\n",
       "      <td>4.1 and up</td>\n",
       "    </tr>\n",
       "    <tr>\n",
       "      <th>3904</th>\n",
       "      <td>WhatsApp Messenger</td>\n",
       "      <td>COMMUNICATION</td>\n",
       "      <td>4.4</td>\n",
       "      <td>69109672</td>\n",
       "      <td>2.133576e+08</td>\n",
       "      <td>1000000000</td>\n",
       "      <td>Free</td>\n",
       "      <td>0.0</td>\n",
       "      <td>Everyone</td>\n",
       "      <td>Communication</td>\n",
       "      <td>August 3, 2018</td>\n",
       "      <td>Varies with device</td>\n",
       "      <td>Varies with device</td>\n",
       "    </tr>\n",
       "    <tr>\n",
       "      <th>3909</th>\n",
       "      <td>Instagram</td>\n",
       "      <td>SOCIAL</td>\n",
       "      <td>4.5</td>\n",
       "      <td>66509917</td>\n",
       "      <td>2.133576e+08</td>\n",
       "      <td>1000000000</td>\n",
       "      <td>Free</td>\n",
       "      <td>0.0</td>\n",
       "      <td>Teen</td>\n",
       "      <td>Social</td>\n",
       "      <td>July 31, 2018</td>\n",
       "      <td>Varies with device</td>\n",
       "      <td>Varies with device</td>\n",
       "    </tr>\n",
       "    <tr>\n",
       "      <th>3928</th>\n",
       "      <td>YouTube</td>\n",
       "      <td>VIDEO_PLAYERS</td>\n",
       "      <td>4.3</td>\n",
       "      <td>25623548</td>\n",
       "      <td>2.133576e+08</td>\n",
       "      <td>1000000000</td>\n",
       "      <td>Free</td>\n",
       "      <td>0.0</td>\n",
       "      <td>Teen</td>\n",
       "      <td>Video Players &amp; Editors</td>\n",
       "      <td>August 2, 2018</td>\n",
       "      <td>Varies with device</td>\n",
       "      <td>Varies with device</td>\n",
       "    </tr>\n",
       "    <tr>\n",
       "      <th>3943</th>\n",
       "      <td>Facebook</td>\n",
       "      <td>SOCIAL</td>\n",
       "      <td>4.1</td>\n",
       "      <td>78128208</td>\n",
       "      <td>2.133576e+08</td>\n",
       "      <td>1000000000</td>\n",
       "      <td>Free</td>\n",
       "      <td>0.0</td>\n",
       "      <td>Teen</td>\n",
       "      <td>Social</td>\n",
       "      <td>August 3, 2018</td>\n",
       "      <td>Varies with device</td>\n",
       "      <td>Varies with device</td>\n",
       "    </tr>\n",
       "    <tr>\n",
       "      <th>3996</th>\n",
       "      <td>Google Chrome: Fast &amp; Secure</td>\n",
       "      <td>COMMUNICATION</td>\n",
       "      <td>4.3</td>\n",
       "      <td>9642112</td>\n",
       "      <td>2.133576e+08</td>\n",
       "      <td>1000000000</td>\n",
       "      <td>Free</td>\n",
       "      <td>0.0</td>\n",
       "      <td>Everyone</td>\n",
       "      <td>Communication</td>\n",
       "      <td>August 1, 2018</td>\n",
       "      <td>Varies with device</td>\n",
       "      <td>Varies with device</td>\n",
       "    </tr>\n",
       "    <tr>\n",
       "      <th>4096</th>\n",
       "      <td>Gmail</td>\n",
       "      <td>COMMUNICATION</td>\n",
       "      <td>4.3</td>\n",
       "      <td>4604324</td>\n",
       "      <td>2.133576e+08</td>\n",
       "      <td>1000000000</td>\n",
       "      <td>Free</td>\n",
       "      <td>0.0</td>\n",
       "      <td>Everyone</td>\n",
       "      <td>Communication</td>\n",
       "      <td>August 2, 2018</td>\n",
       "      <td>Varies with device</td>\n",
       "      <td>Varies with device</td>\n",
       "    </tr>\n",
       "    <tr>\n",
       "      <th>4098</th>\n",
       "      <td>Maps - Navigate &amp; Explore</td>\n",
       "      <td>TRAVEL_AND_LOCAL</td>\n",
       "      <td>4.3</td>\n",
       "      <td>9231613</td>\n",
       "      <td>2.133576e+08</td>\n",
       "      <td>1000000000</td>\n",
       "      <td>Free</td>\n",
       "      <td>0.0</td>\n",
       "      <td>Everyone</td>\n",
       "      <td>Travel &amp; Local</td>\n",
       "      <td>July 31, 2018</td>\n",
       "      <td>Varies with device</td>\n",
       "      <td>Varies with device</td>\n",
       "    </tr>\n",
       "    <tr>\n",
       "      <th>4104</th>\n",
       "      <td>Messenger – Text and Video Chat for Free</td>\n",
       "      <td>COMMUNICATION</td>\n",
       "      <td>4.0</td>\n",
       "      <td>56642847</td>\n",
       "      <td>2.133576e+08</td>\n",
       "      <td>1000000000</td>\n",
       "      <td>Free</td>\n",
       "      <td>0.0</td>\n",
       "      <td>Everyone</td>\n",
       "      <td>Communication</td>\n",
       "      <td>August 1, 2018</td>\n",
       "      <td>Varies with device</td>\n",
       "      <td>Varies with device</td>\n",
       "    </tr>\n",
       "    <tr>\n",
       "      <th>4144</th>\n",
       "      <td>Google+</td>\n",
       "      <td>SOCIAL</td>\n",
       "      <td>4.2</td>\n",
       "      <td>4828372</td>\n",
       "      <td>2.133576e+08</td>\n",
       "      <td>1000000000</td>\n",
       "      <td>Free</td>\n",
       "      <td>0.0</td>\n",
       "      <td>Teen</td>\n",
       "      <td>Social</td>\n",
       "      <td>July 26, 2018</td>\n",
       "      <td>Varies with device</td>\n",
       "      <td>Varies with device</td>\n",
       "    </tr>\n",
       "    <tr>\n",
       "      <th>4150</th>\n",
       "      <td>Google</td>\n",
       "      <td>TOOLS</td>\n",
       "      <td>4.4</td>\n",
       "      <td>8021623</td>\n",
       "      <td>2.133576e+08</td>\n",
       "      <td>1000000000</td>\n",
       "      <td>Free</td>\n",
       "      <td>0.0</td>\n",
       "      <td>Everyone</td>\n",
       "      <td>Tools</td>\n",
       "      <td>August 3, 2018</td>\n",
       "      <td>Varies with device</td>\n",
       "      <td>Varies with device</td>\n",
       "    </tr>\n",
       "    <tr>\n",
       "      <th>4153</th>\n",
       "      <td>Hangouts</td>\n",
       "      <td>COMMUNICATION</td>\n",
       "      <td>4.0</td>\n",
       "      <td>3419464</td>\n",
       "      <td>2.133576e+08</td>\n",
       "      <td>1000000000</td>\n",
       "      <td>Free</td>\n",
       "      <td>0.0</td>\n",
       "      <td>Everyone</td>\n",
       "      <td>Communication</td>\n",
       "      <td>July 21, 2018</td>\n",
       "      <td>Varies with device</td>\n",
       "      <td>Varies with device</td>\n",
       "    </tr>\n",
       "    <tr>\n",
       "      <th>4170</th>\n",
       "      <td>Google Drive</td>\n",
       "      <td>PRODUCTIVITY</td>\n",
       "      <td>4.4</td>\n",
       "      <td>2728941</td>\n",
       "      <td>2.133576e+08</td>\n",
       "      <td>1000000000</td>\n",
       "      <td>Free</td>\n",
       "      <td>0.0</td>\n",
       "      <td>Everyone</td>\n",
       "      <td>Productivity</td>\n",
       "      <td>July 30, 2018</td>\n",
       "      <td>Varies with device</td>\n",
       "      <td>Varies with device</td>\n",
       "    </tr>\n",
       "    <tr>\n",
       "      <th>4234</th>\n",
       "      <td>Skype - free IM &amp; video calls</td>\n",
       "      <td>COMMUNICATION</td>\n",
       "      <td>4.1</td>\n",
       "      <td>10484169</td>\n",
       "      <td>2.133576e+08</td>\n",
       "      <td>1000000000</td>\n",
       "      <td>Free</td>\n",
       "      <td>0.0</td>\n",
       "      <td>Everyone</td>\n",
       "      <td>Communication</td>\n",
       "      <td>August 3, 2018</td>\n",
       "      <td>Varies with device</td>\n",
       "      <td>Varies with device</td>\n",
       "    </tr>\n",
       "    <tr>\n",
       "      <th>5395</th>\n",
       "      <td>Google Photos</td>\n",
       "      <td>PHOTOGRAPHY</td>\n",
       "      <td>4.5</td>\n",
       "      <td>10847682</td>\n",
       "      <td>2.133576e+08</td>\n",
       "      <td>1000000000</td>\n",
       "      <td>Free</td>\n",
       "      <td>0.0</td>\n",
       "      <td>Everyone</td>\n",
       "      <td>Photography</td>\n",
       "      <td>August 1, 2018</td>\n",
       "      <td>Varies with device</td>\n",
       "      <td>Varies with device</td>\n",
       "    </tr>\n",
       "    <tr>\n",
       "      <th>5856</th>\n",
       "      <td>Google Play Games</td>\n",
       "      <td>FAMILY</td>\n",
       "      <td>4.3</td>\n",
       "      <td>7168735</td>\n",
       "      <td>2.133576e+08</td>\n",
       "      <td>1000000000</td>\n",
       "      <td>Free</td>\n",
       "      <td>0.0</td>\n",
       "      <td>Teen</td>\n",
       "      <td>Entertainment</td>\n",
       "      <td>July 16, 2018</td>\n",
       "      <td>Varies with device</td>\n",
       "      <td>Varies with device</td>\n",
       "    </tr>\n",
       "    <tr>\n",
       "      <th>9844</th>\n",
       "      <td>Google News</td>\n",
       "      <td>NEWS_AND_MAGAZINES</td>\n",
       "      <td>3.9</td>\n",
       "      <td>878065</td>\n",
       "      <td>1.310000e+08</td>\n",
       "      <td>1000000000</td>\n",
       "      <td>Free</td>\n",
       "      <td>0.0</td>\n",
       "      <td>Teen</td>\n",
       "      <td>News &amp; Magazines</td>\n",
       "      <td>August 1, 2018</td>\n",
       "      <td>5.2.0</td>\n",
       "      <td>4.4 and up</td>\n",
       "    </tr>\n",
       "  </tbody>\n",
       "</table>\n",
       "</div>"
      ],
      "text/plain": [
       "                                           App             Category  Rating  \\\n",
       "152                          Google Play Books  BOOKS_AND_REFERENCE     3.9   \n",
       "335   Messenger – Text and Video Chat for Free        COMMUNICATION     4.0   \n",
       "336                         WhatsApp Messenger        COMMUNICATION     4.4   \n",
       "338               Google Chrome: Fast & Secure        COMMUNICATION     4.3   \n",
       "340                                      Gmail        COMMUNICATION     4.3   \n",
       "341                                   Hangouts        COMMUNICATION     4.0   \n",
       "381                         WhatsApp Messenger        COMMUNICATION     4.4   \n",
       "382   Messenger – Text and Video Chat for Free        COMMUNICATION     4.0   \n",
       "386                                   Hangouts        COMMUNICATION     4.0   \n",
       "391              Skype - free IM & video calls        COMMUNICATION     4.1   \n",
       "411               Google Chrome: Fast & Secure        COMMUNICATION     4.3   \n",
       "451                                      Gmail        COMMUNICATION     4.3   \n",
       "464                                   Hangouts        COMMUNICATION     4.0   \n",
       "468              Skype - free IM & video calls        COMMUNICATION     4.1   \n",
       "865                          Google Play Games        ENTERTAINMENT     4.3   \n",
       "1654                            Subway Surfers                 GAME     4.5   \n",
       "1700                            Subway Surfers                 GAME     4.5   \n",
       "1750                            Subway Surfers                 GAME     4.5   \n",
       "1872                            Subway Surfers                 GAME     4.5   \n",
       "1917                            Subway Surfers                 GAME     4.5   \n",
       "2544                                  Facebook               SOCIAL     4.1   \n",
       "2545                                 Instagram               SOCIAL     4.5   \n",
       "2554                                   Google+               SOCIAL     4.2   \n",
       "2604                                 Instagram               SOCIAL     4.5   \n",
       "2611                                 Instagram               SOCIAL     4.5   \n",
       "2808                             Google Photos          PHOTOGRAPHY     4.5   \n",
       "2853                             Google Photos          PHOTOGRAPHY     4.5   \n",
       "2884                             Google Photos          PHOTOGRAPHY     4.5   \n",
       "3117                 Maps - Navigate & Explore     TRAVEL_AND_LOCAL     4.3   \n",
       "3127                        Google Street View     TRAVEL_AND_LOCAL     4.2   \n",
       "3223                 Maps - Navigate & Explore     TRAVEL_AND_LOCAL     4.3   \n",
       "3232                        Google Street View     TRAVEL_AND_LOCAL     4.2   \n",
       "3234                                    Google                TOOLS     4.4   \n",
       "3454                              Google Drive         PRODUCTIVITY     4.4   \n",
       "3523                              Google Drive         PRODUCTIVITY     4.4   \n",
       "3565                              Google Drive         PRODUCTIVITY     4.4   \n",
       "3665                                   YouTube        VIDEO_PLAYERS     4.3   \n",
       "3687                   Google Play Movies & TV        VIDEO_PLAYERS     3.7   \n",
       "3736                               Google News   NEWS_AND_MAGAZINES     3.9   \n",
       "3765                               Google News   NEWS_AND_MAGAZINES     3.9   \n",
       "3816                               Google News   NEWS_AND_MAGAZINES     3.9   \n",
       "3896                            Subway Surfers                 GAME     4.5   \n",
       "3904                        WhatsApp Messenger        COMMUNICATION     4.4   \n",
       "3909                                 Instagram               SOCIAL     4.5   \n",
       "3928                                   YouTube        VIDEO_PLAYERS     4.3   \n",
       "3943                                  Facebook               SOCIAL     4.1   \n",
       "3996              Google Chrome: Fast & Secure        COMMUNICATION     4.3   \n",
       "4096                                     Gmail        COMMUNICATION     4.3   \n",
       "4098                 Maps - Navigate & Explore     TRAVEL_AND_LOCAL     4.3   \n",
       "4104  Messenger – Text and Video Chat for Free        COMMUNICATION     4.0   \n",
       "4144                                   Google+               SOCIAL     4.2   \n",
       "4150                                    Google                TOOLS     4.4   \n",
       "4153                                  Hangouts        COMMUNICATION     4.0   \n",
       "4170                              Google Drive         PRODUCTIVITY     4.4   \n",
       "4234             Skype - free IM & video calls        COMMUNICATION     4.1   \n",
       "5395                             Google Photos          PHOTOGRAPHY     4.5   \n",
       "5856                         Google Play Games               FAMILY     4.3   \n",
       "9844                               Google News   NEWS_AND_MAGAZINES     3.9   \n",
       "\n",
       "       Reviews          Size    Installs  Type  Price Content Rating  \\\n",
       "152    1433233  2.133576e+08  1000000000  Free    0.0           Teen   \n",
       "335   56642847  2.133576e+08  1000000000  Free    0.0       Everyone   \n",
       "336   69119316  2.133576e+08  1000000000  Free    0.0       Everyone   \n",
       "338    9642995  2.133576e+08  1000000000  Free    0.0       Everyone   \n",
       "340    4604324  2.133576e+08  1000000000  Free    0.0       Everyone   \n",
       "341    3419249  2.133576e+08  1000000000  Free    0.0       Everyone   \n",
       "381   69119316  2.133576e+08  1000000000  Free    0.0       Everyone   \n",
       "382   56646578  2.133576e+08  1000000000  Free    0.0       Everyone   \n",
       "386    3419433  2.133576e+08  1000000000  Free    0.0       Everyone   \n",
       "391   10484169  2.133576e+08  1000000000  Free    0.0       Everyone   \n",
       "411    9643041  2.133576e+08  1000000000  Free    0.0       Everyone   \n",
       "451    4604483  2.133576e+08  1000000000  Free    0.0       Everyone   \n",
       "464    3419513  2.133576e+08  1000000000  Free    0.0       Everyone   \n",
       "468   10484169  2.133576e+08  1000000000  Free    0.0       Everyone   \n",
       "865    7165362  2.133576e+08  1000000000  Free    0.0           Teen   \n",
       "1654  27722264  7.610000e+08  1000000000  Free    0.0   Everyone 10+   \n",
       "1700  27723193  7.610000e+08  1000000000  Free    0.0   Everyone 10+   \n",
       "1750  27724094  7.610000e+08  1000000000  Free    0.0   Everyone 10+   \n",
       "1872  27725352  7.610000e+08  1000000000  Free    0.0   Everyone 10+   \n",
       "1917  27725352  7.610000e+08  1000000000  Free    0.0   Everyone 10+   \n",
       "2544  78158306  2.133576e+08  1000000000  Free    0.0           Teen   \n",
       "2545  66577313  2.133576e+08  1000000000  Free    0.0           Teen   \n",
       "2554   4831125  2.133576e+08  1000000000  Free    0.0           Teen   \n",
       "2604  66577446  2.133576e+08  1000000000  Free    0.0           Teen   \n",
       "2611  66577313  2.133576e+08  1000000000  Free    0.0           Teen   \n",
       "2808  10858556  2.133576e+08  1000000000  Free    0.0       Everyone   \n",
       "2853  10858538  2.133576e+08  1000000000  Free    0.0       Everyone   \n",
       "2884  10859051  2.133576e+08  1000000000  Free    0.0       Everyone   \n",
       "3117   9235155  2.133576e+08  1000000000  Free    0.0       Everyone   \n",
       "3127   2129689  2.133576e+08  1000000000  Free    0.0       Everyone   \n",
       "3223   9235373  2.133576e+08  1000000000  Free    0.0       Everyone   \n",
       "3232   2129707  2.133576e+08  1000000000  Free    0.0       Everyone   \n",
       "3234   8033493  2.133576e+08  1000000000  Free    0.0       Everyone   \n",
       "3454   2731171  2.133576e+08  1000000000  Free    0.0       Everyone   \n",
       "3523   2731211  2.133576e+08  1000000000  Free    0.0       Everyone   \n",
       "3565   2731211  2.133576e+08  1000000000  Free    0.0       Everyone   \n",
       "3665  25655305  2.133576e+08  1000000000  Free    0.0           Teen   \n",
       "3687    906384  2.133576e+08  1000000000  Free    0.0           Teen   \n",
       "3736    877635  1.310000e+08  1000000000  Free    0.0           Teen   \n",
       "3765    877635  1.310000e+08  1000000000  Free    0.0           Teen   \n",
       "3816    877643  1.310000e+08  1000000000  Free    0.0           Teen   \n",
       "3896  27711703  7.610000e+08  1000000000  Free    0.0   Everyone 10+   \n",
       "3904  69109672  2.133576e+08  1000000000  Free    0.0       Everyone   \n",
       "3909  66509917  2.133576e+08  1000000000  Free    0.0           Teen   \n",
       "3928  25623548  2.133576e+08  1000000000  Free    0.0           Teen   \n",
       "3943  78128208  2.133576e+08  1000000000  Free    0.0           Teen   \n",
       "3996   9642112  2.133576e+08  1000000000  Free    0.0       Everyone   \n",
       "4096   4604324  2.133576e+08  1000000000  Free    0.0       Everyone   \n",
       "4098   9231613  2.133576e+08  1000000000  Free    0.0       Everyone   \n",
       "4104  56642847  2.133576e+08  1000000000  Free    0.0       Everyone   \n",
       "4144   4828372  2.133576e+08  1000000000  Free    0.0           Teen   \n",
       "4150   8021623  2.133576e+08  1000000000  Free    0.0       Everyone   \n",
       "4153   3419464  2.133576e+08  1000000000  Free    0.0       Everyone   \n",
       "4170   2728941  2.133576e+08  1000000000  Free    0.0       Everyone   \n",
       "4234  10484169  2.133576e+08  1000000000  Free    0.0       Everyone   \n",
       "5395  10847682  2.133576e+08  1000000000  Free    0.0       Everyone   \n",
       "5856   7168735  2.133576e+08  1000000000  Free    0.0           Teen   \n",
       "9844    878065  1.310000e+08  1000000000  Free    0.0           Teen   \n",
       "\n",
       "                       Genres    Last Updated         Current Ver  \\\n",
       "152         Books & Reference  August 3, 2018  Varies with device   \n",
       "335             Communication  August 1, 2018  Varies with device   \n",
       "336             Communication  August 3, 2018  Varies with device   \n",
       "338             Communication  August 1, 2018  Varies with device   \n",
       "340             Communication  August 2, 2018  Varies with device   \n",
       "341             Communication   July 21, 2018  Varies with device   \n",
       "381             Communication  August 3, 2018  Varies with device   \n",
       "382             Communication  August 1, 2018  Varies with device   \n",
       "386             Communication   July 21, 2018  Varies with device   \n",
       "391             Communication  August 3, 2018  Varies with device   \n",
       "411             Communication  August 1, 2018  Varies with device   \n",
       "451             Communication  August 2, 2018  Varies with device   \n",
       "464             Communication   July 21, 2018  Varies with device   \n",
       "468             Communication  August 3, 2018  Varies with device   \n",
       "865             Entertainment   July 16, 2018  Varies with device   \n",
       "1654                   Arcade   July 12, 2018              1.90.0   \n",
       "1700                   Arcade   July 12, 2018              1.90.0   \n",
       "1750                   Arcade   July 12, 2018              1.90.0   \n",
       "1872                   Arcade   July 12, 2018              1.90.0   \n",
       "1917                   Arcade   July 12, 2018              1.90.0   \n",
       "2544                   Social  August 3, 2018  Varies with device   \n",
       "2545                   Social   July 31, 2018  Varies with device   \n",
       "2554                   Social   July 26, 2018  Varies with device   \n",
       "2604                   Social   July 31, 2018  Varies with device   \n",
       "2611                   Social   July 31, 2018  Varies with device   \n",
       "2808              Photography  August 6, 2018  Varies with device   \n",
       "2853              Photography  August 6, 2018  Varies with device   \n",
       "2884              Photography  August 6, 2018  Varies with device   \n",
       "3117           Travel & Local   July 31, 2018  Varies with device   \n",
       "3127           Travel & Local  August 6, 2018  Varies with device   \n",
       "3223           Travel & Local   July 31, 2018  Varies with device   \n",
       "3232           Travel & Local  August 6, 2018  Varies with device   \n",
       "3234                    Tools  August 3, 2018  Varies with device   \n",
       "3454             Productivity  August 6, 2018  Varies with device   \n",
       "3523             Productivity  August 6, 2018  Varies with device   \n",
       "3565             Productivity  August 6, 2018  Varies with device   \n",
       "3665  Video Players & Editors  August 2, 2018  Varies with device   \n",
       "3687  Video Players & Editors  August 6, 2018  Varies with device   \n",
       "3736         News & Magazines  August 1, 2018               5.2.0   \n",
       "3765         News & Magazines  August 1, 2018               5.2.0   \n",
       "3816         News & Magazines  August 1, 2018               5.2.0   \n",
       "3896                   Arcade   July 12, 2018              1.90.0   \n",
       "3904            Communication  August 3, 2018  Varies with device   \n",
       "3909                   Social   July 31, 2018  Varies with device   \n",
       "3928  Video Players & Editors  August 2, 2018  Varies with device   \n",
       "3943                   Social  August 3, 2018  Varies with device   \n",
       "3996            Communication  August 1, 2018  Varies with device   \n",
       "4096            Communication  August 2, 2018  Varies with device   \n",
       "4098           Travel & Local   July 31, 2018  Varies with device   \n",
       "4104            Communication  August 1, 2018  Varies with device   \n",
       "4144                   Social   July 26, 2018  Varies with device   \n",
       "4150                    Tools  August 3, 2018  Varies with device   \n",
       "4153            Communication   July 21, 2018  Varies with device   \n",
       "4170             Productivity   July 30, 2018  Varies with device   \n",
       "4234            Communication  August 3, 2018  Varies with device   \n",
       "5395              Photography  August 1, 2018  Varies with device   \n",
       "5856            Entertainment   July 16, 2018  Varies with device   \n",
       "9844         News & Magazines  August 1, 2018               5.2.0   \n",
       "\n",
       "             Android Ver  \n",
       "152   Varies with device  \n",
       "335   Varies with device  \n",
       "336   Varies with device  \n",
       "338   Varies with device  \n",
       "340   Varies with device  \n",
       "341   Varies with device  \n",
       "381   Varies with device  \n",
       "382   Varies with device  \n",
       "386   Varies with device  \n",
       "391   Varies with device  \n",
       "411   Varies with device  \n",
       "451   Varies with device  \n",
       "464   Varies with device  \n",
       "468   Varies with device  \n",
       "865   Varies with device  \n",
       "1654          4.1 and up  \n",
       "1700          4.1 and up  \n",
       "1750          4.1 and up  \n",
       "1872          4.1 and up  \n",
       "1917          4.1 and up  \n",
       "2544  Varies with device  \n",
       "2545  Varies with device  \n",
       "2554  Varies with device  \n",
       "2604  Varies with device  \n",
       "2611  Varies with device  \n",
       "2808  Varies with device  \n",
       "2853  Varies with device  \n",
       "2884  Varies with device  \n",
       "3117  Varies with device  \n",
       "3127  Varies with device  \n",
       "3223  Varies with device  \n",
       "3232  Varies with device  \n",
       "3234  Varies with device  \n",
       "3454  Varies with device  \n",
       "3523  Varies with device  \n",
       "3565  Varies with device  \n",
       "3665  Varies with device  \n",
       "3687  Varies with device  \n",
       "3736          4.4 and up  \n",
       "3765          4.4 and up  \n",
       "3816          4.4 and up  \n",
       "3896          4.1 and up  \n",
       "3904  Varies with device  \n",
       "3909  Varies with device  \n",
       "3928  Varies with device  \n",
       "3943  Varies with device  \n",
       "3996  Varies with device  \n",
       "4096  Varies with device  \n",
       "4098  Varies with device  \n",
       "4104  Varies with device  \n",
       "4144  Varies with device  \n",
       "4150  Varies with device  \n",
       "4153  Varies with device  \n",
       "4170  Varies with device  \n",
       "4234  Varies with device  \n",
       "5395  Varies with device  \n",
       "5856  Varies with device  \n",
       "9844          4.4 and up  "
      ]
     },
     "metadata": {},
     "execution_count": 29
    }
   ],
   "metadata": {}
  },
  {
   "cell_type": "markdown",
   "source": [
    "Most used social media platforms such as Instagram, Facebook have the high reviews and instullation.  "
   ],
   "metadata": {}
  },
  {
   "cell_type": "markdown",
   "source": [
    "## Android Version: "
   ],
   "metadata": {}
  },
  {
   "cell_type": "code",
   "execution_count": 35,
   "source": [
    "googleplay_cleaned.groupby(\"Android Ver\")[\"Installs\"].count()"
   ],
   "outputs": [
    {
     "output_type": "execute_result",
     "data": {
      "text/plain": [
       "Android Ver\n",
       "1.0 and up               2\n",
       "1.5 and up              16\n",
       "1.6 and up              87\n",
       "2.0 and up              27\n",
       "2.0.1 and up             7\n",
       "2.1 and up             113\n",
       "2.2 and up             208\n",
       "2.3 and up             582\n",
       "2.3.3 and up           240\n",
       "3.0 and up             211\n",
       "3.1 and up               8\n",
       "3.2 and up              31\n",
       "4.0 and up            1131\n",
       "4.0.3 - 7.1.1            2\n",
       "4.0.3 and up          1240\n",
       "4.1 - 7.1.1              1\n",
       "4.1 and up            2059\n",
       "4.2 and up             338\n",
       "4.3 and up             207\n",
       "4.4 and up             875\n",
       "4.4W and up              6\n",
       "5.0 - 6.0                1\n",
       "5.0 - 8.0                2\n",
       "5.0 and up             535\n",
       "5.1 and up              18\n",
       "6.0 and up              48\n",
       "7.0 - 7.1.1              1\n",
       "7.0 and up              41\n",
       "7.1 and up               3\n",
       "8.0 and up               5\n",
       "Varies with device    1319\n",
       "Name: Installs, dtype: int64"
      ]
     },
     "metadata": {},
     "execution_count": 35
    }
   ],
   "metadata": {}
  },
  {
   "cell_type": "code",
   "execution_count": 36,
   "source": [
    "googleplay_cleaned.groupby(\"Android Ver\")[\"Rating\"].count()"
   ],
   "outputs": [
    {
     "output_type": "execute_result",
     "data": {
      "text/plain": [
       "Android Ver\n",
       "1.0 and up               2\n",
       "1.5 and up              16\n",
       "1.6 and up              87\n",
       "2.0 and up              27\n",
       "2.0.1 and up             7\n",
       "2.1 and up             113\n",
       "2.2 and up             208\n",
       "2.3 and up             582\n",
       "2.3.3 and up           240\n",
       "3.0 and up             211\n",
       "3.1 and up               8\n",
       "3.2 and up              31\n",
       "4.0 and up            1131\n",
       "4.0.3 - 7.1.1            2\n",
       "4.0.3 and up          1240\n",
       "4.1 - 7.1.1              1\n",
       "4.1 and up            2059\n",
       "4.2 and up             338\n",
       "4.3 and up             207\n",
       "4.4 and up             875\n",
       "4.4W and up              6\n",
       "5.0 - 6.0                1\n",
       "5.0 - 8.0                2\n",
       "5.0 and up             535\n",
       "5.1 and up              18\n",
       "6.0 and up              48\n",
       "7.0 - 7.1.1              1\n",
       "7.0 and up              41\n",
       "7.1 and up               3\n",
       "8.0 and up               5\n",
       "Varies with device    1319\n",
       "Name: Rating, dtype: int64"
      ]
     },
     "metadata": {},
     "execution_count": 36
    }
   ],
   "metadata": {}
  },
  {
   "cell_type": "markdown",
   "source": [
    "most apps require an Android version 4.0 and up or the Android version depends on the device. "
   ],
   "metadata": {}
  },
  {
   "cell_type": "markdown",
   "source": [
    "## Insight summary: \n",
    "\n",
    "- Free apps are the most popular. \n",
    "- Paid apps the falls within the range of $0.99 and to $5 are most popular among paid apps. the number of categories decreases as the prices go up. \n",
    "- Apps that are fall in these categories: family and Games are the most popular since their intended audience is Everyone. \n",
    "- Action and Arcade Game Apps and  Entertainment and Education Family Apps are the most installed apps.    \n",
    "- Apps that have large number of reviews have a large number of installations. \n",
    "- Apps size should be no more than 200MB??\n",
    "- popular apps should have an Android version of 4.0 and up. \n"
   ],
   "metadata": {}
  },
  {
   "cell_type": "markdown",
   "source": [
    "Future work: \n",
    "App popularity prediction. "
   ],
   "metadata": {}
  }
 ],
 "metadata": {
  "orig_nbformat": 4,
  "language_info": {
   "name": "python",
   "version": "3.9.7",
   "mimetype": "text/x-python",
   "codemirror_mode": {
    "name": "ipython",
    "version": 3
   },
   "pygments_lexer": "ipython3",
   "nbconvert_exporter": "python",
   "file_extension": ".py"
  },
  "kernelspec": {
   "name": "python3",
   "display_name": "Python 3.9.7 64-bit ('.venv': venv)"
  },
  "interpreter": {
   "hash": "f1f1f64ef68cee995e79d21dad69513ca751974af154f2f44256ca36b2fb6a6b"
  }
 },
 "nbformat": 4,
 "nbformat_minor": 2
}