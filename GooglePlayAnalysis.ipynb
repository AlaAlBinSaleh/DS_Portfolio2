{
 "cells": [
  {
   "cell_type": "markdown",
   "source": [
    "Research Question: What Makes an App Popular in Google Play? "
   ],
   "metadata": {}
  },
  {
   "cell_type": "code",
   "execution_count": 137,
   "source": [
    "import numpy as np\n",
    "import pandas as pd \n",
    "import seaborn as sns \n",
    "import matplotlib as plt\n",
    "import matplotlib.pyplot as plt\n"
   ],
   "outputs": [],
   "metadata": {}
  },
  {
   "cell_type": "code",
   "execution_count": 138,
   "source": [
    "#import the dataset \n",
    "googleplay = pd.read_csv(\"data/googleplaystore.csv\")"
   ],
   "outputs": [],
   "metadata": {}
  },
  {
   "cell_type": "code",
   "execution_count": 139,
   "source": [
    "#Check the dimentions of the dataset \n",
    "googleplay.shape"
   ],
   "outputs": [
    {
     "output_type": "execute_result",
     "data": {
      "text/plain": [
       "(10841, 13)"
      ]
     },
     "metadata": {},
     "execution_count": 139
    }
   ],
   "metadata": {}
  },
  {
   "cell_type": "code",
   "execution_count": 140,
   "source": [
    "googleplay.info()\n",
    "googleplay.head()\n"
   ],
   "outputs": [
    {
     "output_type": "stream",
     "name": "stdout",
     "text": [
      "<class 'pandas.core.frame.DataFrame'>\n",
      "RangeIndex: 10841 entries, 0 to 10840\n",
      "Data columns (total 13 columns):\n",
      " #   Column          Non-Null Count  Dtype  \n",
      "---  ------          --------------  -----  \n",
      " 0   App             10841 non-null  object \n",
      " 1   Category        10841 non-null  object \n",
      " 2   Rating          9367 non-null   float64\n",
      " 3   Reviews         10841 non-null  object \n",
      " 4   Size            10841 non-null  object \n",
      " 5   Installs        10841 non-null  object \n",
      " 6   Type            10840 non-null  object \n",
      " 7   Price           10841 non-null  object \n",
      " 8   Content Rating  10840 non-null  object \n",
      " 9   Genres          10841 non-null  object \n",
      " 10  Last Updated    10841 non-null  object \n",
      " 11  Current Ver     10833 non-null  object \n",
      " 12  Android Ver     10838 non-null  object \n",
      "dtypes: float64(1), object(12)\n",
      "memory usage: 1.1+ MB\n"
     ]
    },
    {
     "output_type": "execute_result",
     "data": {
      "text/html": [
       "<div>\n",
       "<style scoped>\n",
       "    .dataframe tbody tr th:only-of-type {\n",
       "        vertical-align: middle;\n",
       "    }\n",
       "\n",
       "    .dataframe tbody tr th {\n",
       "        vertical-align: top;\n",
       "    }\n",
       "\n",
       "    .dataframe thead th {\n",
       "        text-align: right;\n",
       "    }\n",
       "</style>\n",
       "<table border=\"1\" class=\"dataframe\">\n",
       "  <thead>\n",
       "    <tr style=\"text-align: right;\">\n",
       "      <th></th>\n",
       "      <th>App</th>\n",
       "      <th>Category</th>\n",
       "      <th>Rating</th>\n",
       "      <th>Reviews</th>\n",
       "      <th>Size</th>\n",
       "      <th>Installs</th>\n",
       "      <th>Type</th>\n",
       "      <th>Price</th>\n",
       "      <th>Content Rating</th>\n",
       "      <th>Genres</th>\n",
       "      <th>Last Updated</th>\n",
       "      <th>Current Ver</th>\n",
       "      <th>Android Ver</th>\n",
       "    </tr>\n",
       "  </thead>\n",
       "  <tbody>\n",
       "    <tr>\n",
       "      <th>0</th>\n",
       "      <td>Photo Editor &amp; Candy Camera &amp; Grid &amp; ScrapBook</td>\n",
       "      <td>ART_AND_DESIGN</td>\n",
       "      <td>4.1</td>\n",
       "      <td>159</td>\n",
       "      <td>19M</td>\n",
       "      <td>10,000+</td>\n",
       "      <td>Free</td>\n",
       "      <td>0</td>\n",
       "      <td>Everyone</td>\n",
       "      <td>Art &amp; Design</td>\n",
       "      <td>January 7, 2018</td>\n",
       "      <td>1.0.0</td>\n",
       "      <td>4.0.3 and up</td>\n",
       "    </tr>\n",
       "    <tr>\n",
       "      <th>1</th>\n",
       "      <td>Coloring book moana</td>\n",
       "      <td>ART_AND_DESIGN</td>\n",
       "      <td>3.9</td>\n",
       "      <td>967</td>\n",
       "      <td>14M</td>\n",
       "      <td>500,000+</td>\n",
       "      <td>Free</td>\n",
       "      <td>0</td>\n",
       "      <td>Everyone</td>\n",
       "      <td>Art &amp; Design;Pretend Play</td>\n",
       "      <td>January 15, 2018</td>\n",
       "      <td>2.0.0</td>\n",
       "      <td>4.0.3 and up</td>\n",
       "    </tr>\n",
       "    <tr>\n",
       "      <th>2</th>\n",
       "      <td>U Launcher Lite – FREE Live Cool Themes, Hide ...</td>\n",
       "      <td>ART_AND_DESIGN</td>\n",
       "      <td>4.7</td>\n",
       "      <td>87510</td>\n",
       "      <td>8.7M</td>\n",
       "      <td>5,000,000+</td>\n",
       "      <td>Free</td>\n",
       "      <td>0</td>\n",
       "      <td>Everyone</td>\n",
       "      <td>Art &amp; Design</td>\n",
       "      <td>August 1, 2018</td>\n",
       "      <td>1.2.4</td>\n",
       "      <td>4.0.3 and up</td>\n",
       "    </tr>\n",
       "    <tr>\n",
       "      <th>3</th>\n",
       "      <td>Sketch - Draw &amp; Paint</td>\n",
       "      <td>ART_AND_DESIGN</td>\n",
       "      <td>4.5</td>\n",
       "      <td>215644</td>\n",
       "      <td>25M</td>\n",
       "      <td>50,000,000+</td>\n",
       "      <td>Free</td>\n",
       "      <td>0</td>\n",
       "      <td>Teen</td>\n",
       "      <td>Art &amp; Design</td>\n",
       "      <td>June 8, 2018</td>\n",
       "      <td>Varies with device</td>\n",
       "      <td>4.2 and up</td>\n",
       "    </tr>\n",
       "    <tr>\n",
       "      <th>4</th>\n",
       "      <td>Pixel Draw - Number Art Coloring Book</td>\n",
       "      <td>ART_AND_DESIGN</td>\n",
       "      <td>4.3</td>\n",
       "      <td>967</td>\n",
       "      <td>2.8M</td>\n",
       "      <td>100,000+</td>\n",
       "      <td>Free</td>\n",
       "      <td>0</td>\n",
       "      <td>Everyone</td>\n",
       "      <td>Art &amp; Design;Creativity</td>\n",
       "      <td>June 20, 2018</td>\n",
       "      <td>1.1</td>\n",
       "      <td>4.4 and up</td>\n",
       "    </tr>\n",
       "  </tbody>\n",
       "</table>\n",
       "</div>"
      ],
      "text/plain": [
       "                                                 App        Category  Rating  \\\n",
       "0     Photo Editor & Candy Camera & Grid & ScrapBook  ART_AND_DESIGN     4.1   \n",
       "1                                Coloring book moana  ART_AND_DESIGN     3.9   \n",
       "2  U Launcher Lite – FREE Live Cool Themes, Hide ...  ART_AND_DESIGN     4.7   \n",
       "3                              Sketch - Draw & Paint  ART_AND_DESIGN     4.5   \n",
       "4              Pixel Draw - Number Art Coloring Book  ART_AND_DESIGN     4.3   \n",
       "\n",
       "  Reviews  Size     Installs  Type Price Content Rating  \\\n",
       "0     159   19M      10,000+  Free     0       Everyone   \n",
       "1     967   14M     500,000+  Free     0       Everyone   \n",
       "2   87510  8.7M   5,000,000+  Free     0       Everyone   \n",
       "3  215644   25M  50,000,000+  Free     0           Teen   \n",
       "4     967  2.8M     100,000+  Free     0       Everyone   \n",
       "\n",
       "                      Genres      Last Updated         Current Ver  \\\n",
       "0               Art & Design   January 7, 2018               1.0.0   \n",
       "1  Art & Design;Pretend Play  January 15, 2018               2.0.0   \n",
       "2               Art & Design    August 1, 2018               1.2.4   \n",
       "3               Art & Design      June 8, 2018  Varies with device   \n",
       "4    Art & Design;Creativity     June 20, 2018                 1.1   \n",
       "\n",
       "    Android Ver  \n",
       "0  4.0.3 and up  \n",
       "1  4.0.3 and up  \n",
       "2  4.0.3 and up  \n",
       "3    4.2 and up  \n",
       "4    4.4 and up  "
      ]
     },
     "metadata": {},
     "execution_count": 140
    }
   ],
   "metadata": {}
  },
  {
   "cell_type": "markdown",
   "source": [
    "Data cleaning "
   ],
   "metadata": {}
  },
  {
   "cell_type": "code",
   "execution_count": 141,
   "source": [
    "#check for the number of missing values in the dataset \n",
    "googleplay.isnull().sum()"
   ],
   "outputs": [
    {
     "output_type": "execute_result",
     "data": {
      "text/plain": [
       "App                  0\n",
       "Category             0\n",
       "Rating            1474\n",
       "Reviews              0\n",
       "Size                 0\n",
       "Installs             0\n",
       "Type                 1\n",
       "Price                0\n",
       "Content Rating       1\n",
       "Genres               0\n",
       "Last Updated         0\n",
       "Current Ver          8\n",
       "Android Ver          3\n",
       "dtype: int64"
      ]
     },
     "metadata": {},
     "execution_count": 141
    }
   ],
   "metadata": {}
  },
  {
   "cell_type": "code",
   "execution_count": 142,
   "source": [
    "googleplay_cleaned = googleplay.copy()\n",
    "\n",
    "#delete row 10472, where 8 of 13 variables have wrong values\n",
    "googleplay_cleaned = googleplay_cleaned.drop(10472, axis=0)\n",
    "\n",
    "#subtitued the NaN value in Type with free since the price is 0 (\n",
    "googleplay_cleaned[googleplay_cleaned.Type.isnull()]\n",
    "googleplay_cleaned['Type'].fillna(\"Free\", inplace = True)\n",
    "\n",
    "#drop all na in rating \n",
    "googleplay_cleaned= googleplay_cleaned.dropna(subset=[\"Rating\"])\n",
    "\n",
    "#Since rating start from 1.0 to 5.0, subsititing NaN with 0 (making 0 as an indecator of unrated apps) \n",
    "#googleplay_cleaned['Rating'].fillna(0.0, inplace = True)\n",
    "\n",
    "# convert Review, price, and Installs to numeric type   \n",
    "googleplay_cleaned[\"Reviews\"] = googleplay_cleaned[\"Reviews\"].astype(\"int\")\n",
    "\n",
    "#clean the Installs Variable and convert to float \n",
    "googleplay_cleaned['Installs'] = googleplay_cleaned.Installs.str.replace(\"+\",\"\")\n",
    "googleplay_cleaned['Installs'] = googleplay_cleaned.Installs.str.replace(\",\",\"\") # because of this fucker '10,000'\n",
    "googleplay_cleaned[\"Installs\"]= googleplay_cleaned[\"Installs\"].astype(\"int\")\n",
    "\n",
    "#clean PRice and convert to float \n",
    "googleplay_cleaned['Price'] = googleplay_cleaned.Price.str.replace(\"$\",\"\")\n",
    "googleplay_cleaned[\"Price\"] = googleplay_cleaned[\"Price\"].astype(\"float64\") \n",
    "\n",
    "# clean the size variable and convert to float  \n",
    "googleplay_cleaned['Size'] = googleplay_cleaned.Size.str.replace(\"M\",\"1e6\")\n",
    "googleplay_cleaned['Size'] = googleplay_cleaned.Size.str.replace(\"k\",\"1e3\")\n",
    "googleplay_cleaned[\"Size\"] = googleplay_cleaned.Size.str.replace(\"Varies with device\",\"NaN\")\n",
    "googleplay_cleaned[\"Size\"] = googleplay_cleaned[\"Size\"].astype(\"float64\")\n",
    "googleplay_cleaned['Size'].fillna(googleplay_cleaned[\"Size\"].mean(), inplace = True)\n",
    "\n",
    "googleplay_cleaned.isnull().sum()\n",
    "\n"
   ],
   "outputs": [
    {
     "output_type": "stream",
     "name": "stderr",
     "text": [
      "/var/folders/1q/17wbd_xs3c358lsfdpvlg3lr0000gn/T/ipykernel_21454/1869855069.py:20: FutureWarning: The default value of regex will change from True to False in a future version. In addition, single character regular expressions will *not* be treated as literal strings when regex=True.\n",
      "  googleplay_cleaned['Installs'] = googleplay_cleaned.Installs.str.replace(\"+\",\"\")\n",
      "/var/folders/1q/17wbd_xs3c358lsfdpvlg3lr0000gn/T/ipykernel_21454/1869855069.py:25: FutureWarning: The default value of regex will change from True to False in a future version. In addition, single character regular expressions will *not* be treated as literal strings when regex=True.\n",
      "  googleplay_cleaned['Price'] = googleplay_cleaned.Price.str.replace(\"$\",\"\")\n"
     ]
    },
    {
     "output_type": "execute_result",
     "data": {
      "text/plain": [
       "App               0\n",
       "Category          0\n",
       "Rating            0\n",
       "Reviews           0\n",
       "Size              0\n",
       "Installs          0\n",
       "Type              0\n",
       "Price             0\n",
       "Content Rating    0\n",
       "Genres            0\n",
       "Last Updated      0\n",
       "Current Ver       4\n",
       "Android Ver       2\n",
       "dtype: int64"
      ]
     },
     "metadata": {},
     "execution_count": 142
    }
   ],
   "metadata": {}
  },
  {
   "cell_type": "markdown",
   "source": [
    "Data Analysis: "
   ],
   "metadata": {}
  },
  {
   "cell_type": "code",
   "execution_count": 143,
   "source": [
    "googleplay_cleaned.groupby('Type')[\"Installs\"].count().sort_values(ascending=True)"
   ],
   "outputs": [
    {
     "output_type": "execute_result",
     "data": {
      "text/plain": [
       "Type\n",
       "Paid     647\n",
       "Free    8719\n",
       "Name: Installs, dtype: int64"
      ]
     },
     "metadata": {},
     "execution_count": 143
    }
   ],
   "metadata": {}
  },
  {
   "cell_type": "code",
   "execution_count": 144,
   "source": [
    "# Free vs Paid distribution based on cato \n",
    "sns.displot(\n",
    "    data=googleplay_cleaned,\n",
    "    x=\"Category\", hue='Type',\n",
    "    palette=[\"#228B22\", \"#D10000\"], \n",
    "     multiple=\"stack\"\n",
    ")\n",
    "plt.xticks(rotation=90)\n",
    "plt.rcParams.update({'font.size': 8})"
   ],
   "outputs": [
    {
     "output_type": "display_data",
     "data": {
      "image/png": "[encoded data removed]",
      "text/plain": [
       "<Figure size 405.925x360 with 1 Axes>"
      ]
     },
     "metadata": {
      "needs_background": "light"
     }
    }
   ],
   "metadata": {}
  },
  {
   "cell_type": "code",
   "execution_count": 145,
   "source": [
    "#divide dataset based Type (free or paid)\n",
    "Paid_Apps =googleplay_cleaned[ googleplay_cleaned.Type == \"Paid\"]\n",
    "Free_Apps =googleplay_cleaned[ googleplay_cleaned.Type == \"Free\"]\n",
    "Paid_Apps.Installs.mean()\n",
    "Free_Apps.Installs.mean()\n"
   ],
   "outputs": [
    {
     "output_type": "execute_result",
     "data": {
      "text/plain": [
       "19217171.161371715"
      ]
     },
     "metadata": {},
     "execution_count": 145
    }
   ],
   "metadata": {}
  },
  {
   "cell_type": "markdown",
   "source": [
    "On Averge Free apps are downloaded more than paid apps. "
   ],
   "metadata": {}
  },
  {
   "cell_type": "code",
   "execution_count": 146,
   "source": [
    "Paid_Apps[(Paid_Apps.Price <= 19.99) & (Paid_Apps.Price >= 0.99)][\"Category\"].count()\n",
    "# 615 out of 647 paid apps "
   ],
   "outputs": [
    {
     "output_type": "execute_result",
     "data": {
      "text/plain": [
       "615"
      ]
     },
     "metadata": {},
     "execution_count": 146
    }
   ],
   "metadata": {}
  },
  {
   "cell_type": "code",
   "execution_count": 147,
   "source": [
    "googleplay_cleaned[ googleplay_cleaned.Price > 19.99][\"Category\"].count()\n",
    "#32 out of 647 paid apps "
   ],
   "outputs": [
    {
     "output_type": "execute_result",
     "data": {
      "text/plain": [
       "32"
      ]
     },
     "metadata": {},
     "execution_count": 147
    }
   ],
   "metadata": {}
  },
  {
   "cell_type": "code",
   "execution_count": 148,
   "source": [
    "sns.stripplot(Paid_Apps.Price,Paid_Apps.Category, data=Paid_Apps, alpha=0.3)"
   ],
   "outputs": [
    {
     "output_type": "stream",
     "name": "stderr",
     "text": [
      "/Users/AlaAlBinSaleh/Desktop/misk_DS/new_project/Data_Science_Portfolio/PyProtfolio/.venv/lib/python3.9/site-packages/seaborn/_decorators.py:36: FutureWarning: Pass the following variables as keyword args: x, y. From version 0.12, the only valid positional argument will be `data`, and passing other arguments without an explicit keyword will result in an error or misinterpretation.\n",
      "  warnings.warn(\n"
     ]
    },
    {
     "output_type": "execute_result",
     "data": {
      "text/plain": [
       "<AxesSubplot:xlabel='Price', ylabel='Category'>"
      ]
     },
     "metadata": {},
     "execution_count": 148
    },
    {
     "output_type": "display_data",
     "data": {
      "image/png": "[encoded data removed]",
      "text/plain": [
       "<Figure size 432x288 with 1 Axes>"
      ]
     },
     "metadata": {
      "needs_background": "light"
     }
    }
   ],
   "metadata": {}
  },
  {
   "cell_type": "markdown",
   "source": [
    "The paid apps range from 0.99 to 400. \n",
    "\n",
    "The majority (94%) of the paid app falls between 0.99 and 19.99. while the remaining 6% falls beyond this range. \n",
    "\n",
    "Categories the fall whitin this rage are Family, Games, photography, communications, \n",
    "Catergories such as  LIFESTYLE, FINANCE ,MEDICAL have high prices reaching up to 400$\n"
   ],
   "metadata": {}
  },
  {
   "cell_type": "code",
   "execution_count": 149,
   "source": [
    "#find cato with the highest installation \n",
    "InstallsCat = googleplay_cleaned.groupby(['Category'])[\"Installs\"].count().sort_values(ascending=True)\n",
    "\n",
    "#find top 10 Cato\n",
    "InstallsCat.tail(10)"
   ],
   "outputs": [
    {
     "output_type": "execute_result",
     "data": {
      "text/plain": [
       "Category\n",
       "PERSONALIZATION     314\n",
       "PHOTOGRAPHY         317\n",
       "SPORTS              319\n",
       "FINANCE             323\n",
       "COMMUNICATION       328\n",
       "MEDICAL             350\n",
       "PRODUCTIVITY        351\n",
       "TOOLS               734\n",
       "GAME               1097\n",
       "FAMILY             1747\n",
       "Name: Installs, dtype: int64"
      ]
     },
     "metadata": {},
     "execution_count": 149
    }
   ],
   "metadata": {}
  },
  {
   "cell_type": "code",
   "execution_count": 150,
   "source": [
    "#find the average rating, to set it as a threshold \n",
    "np.mean(googleplay_cleaned[\"Rating\"])"
   ],
   "outputs": [
    {
     "output_type": "execute_result",
     "data": {
      "text/plain": [
       "4.191757420456972"
      ]
     },
     "metadata": {},
     "execution_count": 150
    }
   ],
   "metadata": {}
  },
  {
   "cell_type": "code",
   "execution_count": 151,
   "source": [
    "#find cato with the highest installation \n",
    "RatingCat = googleplay_cleaned.groupby(['Category'])[\"Rating\"].mean().sort_values(ascending=True)\n",
    "\n",
    "#find top 5 Cato\n",
    "RatingCat.tail(30)"
   ],
   "outputs": [
    {
     "output_type": "execute_result",
     "data": {
      "text/plain": [
       "Category\n",
       "VIDEO_PLAYERS          4.063750\n",
       "LIFESTYLE              4.094904\n",
       "TRAVEL_AND_LOCAL       4.109292\n",
       "BUSINESS               4.121452\n",
       "ENTERTAINMENT          4.126174\n",
       "FINANCE                4.131889\n",
       "NEWS_AND_MAGAZINES     4.132189\n",
       "COMICS                 4.155172\n",
       "COMMUNICATION          4.158537\n",
       "FOOD_AND_DRINK         4.166972\n",
       "LIBRARIES_AND_DEMO     4.178462\n",
       "MEDICAL                4.189143\n",
       "AUTO_AND_VEHICLES      4.190411\n",
       "PHOTOGRAPHY            4.192114\n",
       "FAMILY                 4.192272\n",
       "HOUSE_AND_HOME         4.197368\n",
       "PRODUCTIVITY           4.211396\n",
       "SPORTS                 4.223511\n",
       "WEATHER                4.244000\n",
       "SOCIAL                 4.255598\n",
       "SHOPPING               4.259664\n",
       "HEALTH_AND_FITNESS     4.277104\n",
       "BEAUTY                 4.278571\n",
       "GAME                   4.286326\n",
       "PARENTING              4.300000\n",
       "PERSONALIZATION        4.335987\n",
       "BOOKS_AND_REFERENCE    4.346067\n",
       "ART_AND_DESIGN         4.358065\n",
       "EDUCATION              4.389032\n",
       "EVENTS                 4.435556\n",
       "Name: Rating, dtype: float64"
      ]
     },
     "metadata": {},
     "execution_count": 151
    }
   ],
   "metadata": {}
  },
  {
   "cell_type": "markdown",
   "source": [
    "The results above shows that more than half of the most intalled categories have a rating that is equal or greater than the average rating of 3.6. \n",
    "\n",
    "Therefore, apps the falls in categoriesthat are for everone scores higher in the rating and the number of installation. "
   ],
   "metadata": {}
  },
  {
   "cell_type": "code",
   "execution_count": 152,
   "source": [
    "# Price vs rating plots \n",
    "sns.displot(\n",
    "    data=googleplay_cleaned,\n",
    "    x=\"Rating\", hue='Type',\n",
    "    palette=[\"#228B22\", \"#D10000\"], \n",
    "     multiple=\"stack\"\n",
    ")"
   ],
   "outputs": [
    {
     "output_type": "execute_result",
     "data": {
      "text/plain": [
       "<seaborn.axisgrid.FacetGrid at 0x7ffbcd170ac0>"
      ]
     },
     "metadata": {},
     "execution_count": 152
    },
    {
     "output_type": "display_data",
     "data": {
      "image/png": "[encoded data removed]",
      "text/plain": [
       "<Figure size 405.925x360 with 1 Axes>"
      ]
     },
     "metadata": {
      "needs_background": "light"
     }
    }
   ],
   "metadata": {}
  },
  {
   "cell_type": "code",
   "execution_count": 153,
   "source": [
    "# What makes these categories have high rating and installation number\n",
    "# check the intened audience for these cato\n",
    "Categories= googleplay_cleaned[googleplay_cleaned.Category.isin([\"FAMILY\", \"GAME\", \"TOOLS\", \"MEDICAL\", \"BUSINESS\"])]\n",
    "Categories.groupby(\"Content Rating\")[\"App\"].count()\n",
    "\n",
    "\n"
   ],
   "outputs": [
    {
     "output_type": "execute_result",
     "data": {
      "text/plain": [
       "Content Rating\n",
       "Everyone        3263\n",
       "Everyone 10+     264\n",
       "Mature 17+       125\n",
       "Teen             578\n",
       "Unrated            1\n",
       "Name: App, dtype: int64"
      ]
     },
     "metadata": {},
     "execution_count": 153
    }
   ],
   "metadata": {}
  },
  {
   "cell_type": "markdown",
   "source": [
    "Apps that are for \"Everyone\", Teen have the most count / Installistion "
   ],
   "metadata": {}
  },
  {
   "cell_type": "code",
   "execution_count": 172,
   "source": [
    "f,ax = plt.subplots(figsize = (10,10))\n",
    "sns.heatmap(googleplay_cleaned.corr(), annot = True, linewidths = .5, fmt = \".2f\", ax=ax)"
   ],
   "outputs": [
    {
     "output_type": "execute_result",
     "data": {
      "text/plain": [
       "<AxesSubplot:>"
      ]
     },
     "metadata": {},
     "execution_count": 172
    },
    {
     "output_type": "display_data",
     "data": {
      "image/png": "[encoded data removed]",
      "text/plain": [
       "<Figure size 720x720 with 2 Axes>"
      ]
     },
     "metadata": {
      "needs_background": "light"
     }
    }
   ],
   "metadata": {}
  },
  {
   "cell_type": "markdown",
   "source": [
    "Insight: \n",
    "- Free apps are the most populare. \n",
    "- Paid apps the falls within the range of 0.99 and 19.99 are most populare among paid apps \n",
    "- Apps that are falls in the these categories (\"FAMILY\", \"GAME\", \"TOOLS\", \"MEDICAL\", \"BUSINESS\" )are populare since their intended  audiance is  Everyone. \n",
    "- Apps that have large number views have a large number of installation."
   ],
   "metadata": {}
  },
  {
   "cell_type": "markdown",
   "source": [
    "Future work: \n",
    "Further analysis + App popularity prediction. "
   ],
   "metadata": {}
  }
 ],
 "metadata": {
  "orig_nbformat": 4,
  "language_info": {
   "name": "python",
   "version": "3.9.7",
   "mimetype": "text/x-python",
   "codemirror_mode": {
    "name": "ipython",
    "version": 3
   },
   "pygments_lexer": "ipython3",
   "nbconvert_exporter": "python",
   "file_extension": ".py"
  },
  "kernelspec": {
   "name": "python3",
   "display_name": "Python 3.9.7 64-bit ('.venv': venv)"
  },
  "interpreter": {
   "hash": "f1f1f64ef68cee995e79d21dad69513ca751974af154f2f44256ca36b2fb6a6b"
  }
 },
 "nbformat": 4,
 "nbformat_minor": 2
}